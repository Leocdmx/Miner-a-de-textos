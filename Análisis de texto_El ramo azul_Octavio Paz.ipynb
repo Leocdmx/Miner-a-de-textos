{
 "cells": [
  {
   "cell_type": "code",
   "execution_count": null,
   "metadata": {},
   "outputs": [
    {
     "name": "stdout",
     "output_type": "stream",
     "text": [
      "Collecting stanza\n",
      "  Downloading stanza-1.10.1-py3-none-any.whl (1.1 MB)\n",
      "     ---------------------------------------- 1.1/1.1 MB 3.9 MB/s eta 0:00:00\n",
      "Collecting emoji (from stanza)\n",
      "  Downloading emoji-2.14.1-py3-none-any.whl (590 kB)\n",
      "     ------------------------------------- 590.6/590.6 kB 36.3 MB/s eta 0:00:00\n",
      "Requirement already satisfied: numpy in c:\\users\\león\\appdata\\local\\programs\\python\\python310\\lib\\site-packages (from stanza) (1.23.1)\n",
      "Requirement already satisfied: protobuf>=3.15.0 in c:\\users\\león\\appdata\\local\\programs\\python\\python310\\lib\\site-packages (from stanza) (4.21.2)\n",
      "Requirement already satisfied: requests in c:\\users\\león\\appdata\\local\\programs\\python\\python310\\lib\\site-packages (from stanza) (2.31.0)\n",
      "Collecting networkx (from stanza)\n",
      "  Downloading networkx-3.4.2-py3-none-any.whl (1.7 MB)\n",
      "     ---------------------------------------- 1.7/1.7 MB 15.7 MB/s eta 0:00:00\n",
      "Collecting tomli (from stanza)\n",
      "  Downloading tomli-2.2.1-py3-none-any.whl (14 kB)\n",
      "Collecting torch>=1.3.0 (from stanza)\n",
      "  Downloading torch-2.6.0-cp310-cp310-win_amd64.whl (204.2 MB)\n",
      "     -------------------------------------- 204.2/204.2 MB 5.7 MB/s eta 0:00:00\n",
      "Requirement already satisfied: tqdm in c:\\users\\león\\appdata\\local\\programs\\python\\python310\\lib\\site-packages (from stanza) (4.67.1)\n",
      "Collecting filelock (from torch>=1.3.0->stanza)\n",
      "  Downloading filelock-3.17.0-py3-none-any.whl (16 kB)\n",
      "Requirement already satisfied: typing-extensions>=4.10.0 in c:\\users\\león\\appdata\\local\\programs\\python\\python310\\lib\\site-packages (from torch>=1.3.0->stanza) (4.12.2)\n",
      "Requirement already satisfied: jinja2 in c:\\users\\león\\appdata\\local\\programs\\python\\python310\\lib\\site-packages (from torch>=1.3.0->stanza) (3.1.5)\n",
      "Collecting fsspec (from torch>=1.3.0->stanza)\n",
      "  Downloading fsspec-2025.2.0-py3-none-any.whl (184 kB)\n",
      "     ------------------------------------- 184.5/184.5 kB 10.9 MB/s eta 0:00:00\n",
      "Collecting sympy==1.13.1 (from torch>=1.3.0->stanza)\n",
      "  Downloading sympy-1.13.1-py3-none-any.whl (6.2 MB)\n",
      "     ---------------------------------------- 6.2/6.2 MB 6.8 MB/s eta 0:00:00\n",
      "Collecting mpmath<1.4,>=1.1.0 (from sympy==1.13.1->torch>=1.3.0->stanza)\n",
      "  Downloading mpmath-1.3.0-py3-none-any.whl (536 kB)\n",
      "     -------------------------------------- 536.2/536.2 kB 6.7 MB/s eta 0:00:00\n",
      "Requirement already satisfied: charset-normalizer<4,>=2 in c:\\users\\león\\appdata\\local\\programs\\python\\python310\\lib\\site-packages (from requests->stanza) (3.1.0)\n",
      "Requirement already satisfied: idna<4,>=2.5 in c:\\users\\león\\appdata\\local\\programs\\python\\python310\\lib\\site-packages (from requests->stanza) (3.4)\n",
      "Requirement already satisfied: urllib3<3,>=1.21.1 in c:\\users\\león\\appdata\\local\\programs\\python\\python310\\lib\\site-packages (from requests->stanza) (2.0.3)\n",
      "Requirement already satisfied: certifi>=2017.4.17 in c:\\users\\león\\appdata\\local\\programs\\python\\python310\\lib\\site-packages (from requests->stanza) (2023.5.7)\n",
      "Requirement already satisfied: colorama in c:\\users\\león\\appdata\\local\\programs\\python\\python310\\lib\\site-packages (from tqdm->stanza) (0.4.6)\n",
      "Requirement already satisfied: MarkupSafe>=2.0 in c:\\users\\león\\appdata\\local\\programs\\python\\python310\\lib\\site-packages (from jinja2->torch>=1.3.0->stanza) (3.0.2)\n",
      "Installing collected packages: mpmath, tomli, sympy, networkx, fsspec, filelock, emoji, torch, stanza\n",
      "Successfully installed emoji-2.14.1 filelock-3.17.0 fsspec-2025.2.0 mpmath-1.3.0 networkx-3.4.2 stanza-1.10.1 sympy-1.13.1 tomli-2.2.1 torch-2.6.0\n"
     ]
    },
    {
     "name": "stderr",
     "output_type": "stream",
     "text": [
      "\n",
      "[notice] A new release of pip is available: 23.1.2 -> 25.0.1\n",
      "[notice] To update, run: python.exe -m pip install --upgrade pip\n"
     ]
    }
   ],
   "source": [
    "#pip install spacy\n",
    "#!python -m spacy download es_core_news_sm\n",
    "#!pip install stanza\n"
   ]
  },
  {
   "cell_type": "code",
   "execution_count": 12,
   "metadata": {},
   "outputs": [
    {
     "ename": "ModuleNotFoundError",
     "evalue": "No module named 'stanza'",
     "output_type": "error",
     "traceback": [
      "\u001b[1;31m---------------------------------------------------------------------------\u001b[0m",
      "\u001b[1;31mModuleNotFoundError\u001b[0m                       Traceback (most recent call last)",
      "Input \u001b[1;32mIn [12]\u001b[0m, in \u001b[0;36m<cell line: 3>\u001b[1;34m()\u001b[0m\n\u001b[0;32m      1\u001b[0m \u001b[38;5;66;03m#Librerias\u001b[39;00m\n\u001b[0;32m      2\u001b[0m \u001b[38;5;28;01mimport\u001b[39;00m \u001b[38;5;21;01mspacy\u001b[39;00m\n\u001b[1;32m----> 3\u001b[0m \u001b[38;5;28;01mimport\u001b[39;00m \u001b[38;5;21;01mstanza\u001b[39;00m\n",
      "\u001b[1;31mModuleNotFoundError\u001b[0m: No module named 'stanza'"
     ]
    }
   ],
   "source": [
    "#Librerias\n",
    "import spacy\n",
    "import stanza"
   ]
  },
  {
   "cell_type": "markdown",
   "metadata": {},
   "source": [
    "1.Cuantas palabras hay en el texto? (descartando símbolos de puntuación)."
   ]
  },
  {
   "cell_type": "code",
   "execution_count": 11,
   "metadata": {},
   "outputs": [
    {
     "name": "stdout",
     "output_type": "stream",
     "text": [
      "Total de palabras: 806\n",
      "Palabras únicas: 425\n"
     ]
    }
   ],
   "source": [
    "#spacy\n",
    "# estanciamos el modelo en español de spacy\n",
    "nlp = spacy.load(\"es_core_news_sm\")\n",
    "\n",
    "#cargamos el texto\n",
    "with open(\"elramoazul.txt\", \"r\", encoding=\"utf-8\") as f:\n",
    "    texto = f.read()\n",
    "\n",
    "#se procesa con sapcy \n",
    "doc = nlp(texto)\n",
    "\n",
    "# estadarizamos el texto\n",
    "palabras = [token.text.lower() for token in doc if token.is_alpha]\n",
    "\n",
    "# Contamos palabas\n",
    "total_palabras = len(palabras)\n",
    "\n",
    "# Contar palabras únicas\n",
    "palabras_unicas = set(palabras)\n",
    "total_palabras_unicas = len(palabras_unicas)\n",
    "\n",
    "# Mostrar resultados\n",
    "print(f\"Total de palabras: {total_palabras}\")\n",
    "print(f\"Palabras únicas: {total_palabras_unicas}\")\n"
   ]
  },
  {
   "cell_type": "code",
   "execution_count": null,
   "metadata": {},
   "outputs": [],
   "source": []
  }
 ],
 "metadata": {
  "kernelspec": {
   "display_name": "Python 3",
   "language": "python",
   "name": "python3"
  },
  "language_info": {
   "codemirror_mode": {
    "name": "ipython",
    "version": 3
   },
   "file_extension": ".py",
   "mimetype": "text/x-python",
   "name": "python",
   "nbconvert_exporter": "python",
   "pygments_lexer": "ipython3",
   "version": "3.10.5"
  }
 },
 "nbformat": 4,
 "nbformat_minor": 2
}
