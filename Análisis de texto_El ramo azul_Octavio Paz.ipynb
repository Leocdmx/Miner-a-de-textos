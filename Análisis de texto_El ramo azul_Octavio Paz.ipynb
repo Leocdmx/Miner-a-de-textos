{
 "cells": [
  {
   "cell_type": "code",
   "execution_count": 1,
   "metadata": {},
   "outputs": [],
   "source": [
    "#pip install spacy\n",
    "#!python -m spacy download es_core_news_sm\n",
    "#!pip install stanza\n",
    "#!pip install ipywidgets\n",
    "\n",
    "# Descargamos el modelo en español.\n",
    "#stanza.download(\"es\")"
   ]
  },
  {
   "cell_type": "code",
   "execution_count": 2,
   "metadata": {},
   "outputs": [],
   "source": [
    "#Librerias\n",
    "import spacy\n",
    "import stanza\n",
    "\n",
    "import string\n",
    "from collections import Counter"
   ]
  },
  {
   "cell_type": "code",
   "execution_count": 3,
   "metadata": {},
   "outputs": [],
   "source": [
    "#Leemos el texto\n",
    "with open(\"elramoazul.txt\", \"r\", encoding=\"utf-8\") as f:\n",
    "    texto = f.read()\n",
    "\n",
    "#lo dejamos en minusculas para evitar palabras repetidas\n",
    "texto=texto.lower()"
   ]
  },
  {
   "cell_type": "code",
   "execution_count": 29,
   "metadata": {},
   "outputs": [
    {
     "name": "stderr",
     "output_type": "stream",
     "text": [
      "2025-02-19 15:45:16 INFO: Checking for updates to resources.json in case models have been updated.  Note: this behavior can be turned off with download_method=None or download_method=DownloadMethod.REUSE_RESOURCES\n"
     ]
    },
    {
     "data": {
      "application/vnd.jupyter.widget-view+json": {
       "model_id": "df78064c42d14beb9023a6ee268f5ecd",
       "version_major": 2,
       "version_minor": 0
      },
      "text/plain": [
       "Downloading https://raw.githubusercontent.com/stanfordnlp/stanza-resources/main/resources_1.10.0.json:   0%|  …"
      ]
     },
     "metadata": {},
     "output_type": "display_data"
    },
    {
     "name": "stderr",
     "output_type": "stream",
     "text": [
      "2025-02-19 15:45:17 INFO: Downloaded file to C:\\Users\\León\\stanza_resources\\resources.json\n",
      "2025-02-19 15:45:17 WARNING: Language es package default expects mwt, which has been added\n",
      "2025-02-19 15:45:17 INFO: Loading these models for language: es (Spanish):\n",
      "===============================\n",
      "| Processor | Package         |\n",
      "-------------------------------\n",
      "| tokenize  | combined        |\n",
      "| mwt       | combined        |\n",
      "| pos       | combined_charlm |\n",
      "===============================\n",
      "\n",
      "2025-02-19 15:45:17 INFO: Using device: cpu\n",
      "2025-02-19 15:45:17 INFO: Loading: tokenize\n",
      "2025-02-19 15:45:17 INFO: Loading: mwt\n",
      "2025-02-19 15:45:17 INFO: Loading: pos\n",
      "2025-02-19 15:45:20 INFO: Done loading processors!\n"
     ]
    }
   ],
   "source": [
    "#Cargamos los modelos a utilizar\n",
    "\n",
    "#spacy\n",
    "nlp_spacy = spacy.load(\"es_core_news_sm\")\n",
    "\n",
    "#stanza\n",
    "nlp_stanza = stanza.Pipeline(lang=\"es\", processors=\"tokenize,pos\")\n"
   ]
  },
  {
   "cell_type": "markdown",
   "metadata": {},
   "source": [
    "1.Cuantas palabras hay en el texto? (descartando símbolos de puntuación)."
   ]
  },
  {
   "cell_type": "code",
   "execution_count": 5,
   "metadata": {},
   "outputs": [
    {
     "name": "stdout",
     "output_type": "stream",
     "text": [
      "Total de palabras: 792\n"
     ]
    }
   ],
   "source": [
    "#signos encontrados postanalisis\n",
    "signos_extra = '¡¿—–-\"“\\n\\n' \n",
    "\n",
    "#sin puntuación\n",
    "texto_sin_puntuacion = texto.translate(str.maketrans(\"\", \"\", string.punctuation+ signos_extra))\n",
    "\n",
    "palabras_separadas=texto_sin_puntuacion.split()\n",
    "#Tamaño\n",
    "total_palabras = len(palabras_separadas)\n",
    "\n",
    "#total de palabras\n",
    "print(\"Total de palabras:\",total_palabras)\n"
   ]
  },
  {
   "cell_type": "markdown",
   "metadata": {},
   "source": [
    "2.Cuantas palabras diferentes hay?."
   ]
  },
  {
   "cell_type": "code",
   "execution_count": 6,
   "metadata": {},
   "outputs": [
    {
     "name": "stdout",
     "output_type": "stream",
     "text": [
      "Total de palabras únicas: 437\n"
     ]
    }
   ],
   "source": [
    "palabras_unicas = set(palabras_separadas)\n",
    "palabras_unicas_total=len(palabras_unicas)\n",
    "print(\"Total de palabras únicas:\",palabras_unicas_total)"
   ]
  },
  {
   "cell_type": "markdown",
   "metadata": {},
   "source": [
    "3.Después de lematizar las palabras, cuántas palabras diferentes hay?."
   ]
  },
  {
   "cell_type": "code",
   "execution_count": 7,
   "metadata": {},
   "outputs": [
    {
     "name": "stdout",
     "output_type": "stream",
     "text": [
      "Total de palabras lematizadas spacy: 438\n",
      "Total de palabras lematizadas stanza: 447\n"
     ]
    }
   ],
   "source": [
    "# Convertir la lista en un string\n",
    "string_unico = \" \".join(palabras_unicas)\n",
    "\n",
    "\n",
    "#spacy\n",
    "\n",
    "#cargamos el modelo\n",
    "doc_spacy = nlp_spacy(string_unico)\n",
    "\n",
    "#obtenemos lemas\n",
    "# Obtener lemas\n",
    "lemmas_spacy = [token.lemma_ for token in doc_spacy]\n",
    "\n",
    "total_spacy=len(lemmas_spacy)\n",
    "\n",
    "\n",
    "#stanza\n",
    "\n",
    "doc_stanza = nlp_stanza(string_unico)\n",
    "# Extraer palabras (ignorando puntuación y espacios)\n",
    "lemmas_stanza = [word.text.lower() for sent in doc_stanza.sentences for word in sent.words if word.text.isalpha()]\n",
    "\n",
    "total_stanza=len(lemmas_stanza)\n",
    "\n",
    "print(\"Total de palabras lematizadas spacy:\",total_spacy)\n",
    "print(\"Total de palabras lematizadas stanza:\",total_stanza)\n"
   ]
  },
  {
   "cell_type": "markdown",
   "metadata": {},
   "source": [
    " Entre muchos ejemplos más vemos las transformaciones que hay entre spacy->stanza\n",
    " 'servir'->'sirven'\n",
    " 'deja'->'dejas'\n",
    " 'estar'->'estaba'\n",
    " 'ojo'->'ojos'\n"
   ]
  },
  {
   "cell_type": "markdown",
   "metadata": {},
   "source": [
    "4.¿Cuál es la diversidad léxica del texto dado? (relación de palabras únicas con respecto al número total de palabras)."
   ]
  },
  {
   "cell_type": "code",
   "execution_count": 8,
   "metadata": {},
   "outputs": [
    {
     "name": "stdout",
     "output_type": "stream",
     "text": [
      "Diversidad lexica: 55.18 %\n",
      "Lo siguiente no se si sea valido\n",
      "Diversidad spacy: 55.3 %\n",
      "Diversidad stanza: 56.44 %\n"
     ]
    }
   ],
   "source": [
    "\n",
    "div_pura=palabras_unicas_total/total_palabras\n",
    "\n",
    "div_spacy=total_spacy/total_palabras\n",
    "div_stanza=total_stanza/total_palabras\n",
    "\n",
    "print(\"Diversidad lexica:\",round(div_pura*100,2),\"%\")\n",
    "print(\"Lo siguiente no se si sea valido\")\n",
    "print(\"Diversidad spacy:\",round(div_spacy*100,2),\"%\")\n",
    "print(\"Diversidad stanza:\",round(div_stanza*100,2),\"%\")"
   ]
  },
  {
   "cell_type": "markdown",
   "metadata": {},
   "source": [
    "5.¿Cuáles son las 20 palabras (únicas) más frecuentes en el texto? ¿Cuál es su frecuencia?."
   ]
  },
  {
   "cell_type": "code",
   "execution_count": 9,
   "metadata": {},
   "outputs": [
    {
     "name": "stdout",
     "output_type": "stream",
     "text": [
      "Top 20 spacy: [('de', 37), ('la', 35), ('el', 22), ('me', 22), ('y', 19), ('un', 16), ('no', 16), ('los', 16), ('a', 13), ('una', 11), ('con', 11), ('se', 10), ('que', 10), ('ojos', 10), ('al', 8), ('en', 7), ('las', 7), ('del', 6), ('mis', 6), ('entre', 5)]\n",
      "Top 20 stanza: [('de', 43), ('el', 36), ('la', 35), ('me', 28), ('a', 21), ('y', 19), ('un', 16), ('los', 16), ('no', 15), ('una', 11), ('con', 11), ('se', 10), ('que', 10), ('ojos', 10), ('en', 7), ('las', 7), ('mis', 6), ('entre', 5), ('lo', 5), ('señor', 5)]\n"
     ]
    }
   ],
   "source": [
    "#cargamos el modelo\n",
    "doc_spacy = nlp_spacy(texto_sin_puntuacion)\n",
    "\n",
    "# Obtener solo palabras (ignorando puntuación y números)\n",
    "palabras_spacy = [token.text for token in doc_spacy if token.is_alpha]\n",
    "\n",
    "# Contar la frecuencia de cada palabra\n",
    "frecuencia_palabras_spacy = Counter(palabras_spacy)\n",
    "\n",
    "# Obtener las 20 palabras únicas más frecuentes\n",
    "top_20_palabras_spacy = frecuencia_palabras_spacy.most_common(20)\n",
    "\n",
    "\n",
    "\n",
    "# Procesar el texto con Stanza\n",
    "doc_stanza = nlp_stanza(texto_sin_puntuacion)\n",
    "\n",
    "# Extraer solo palabras (ignorando puntuación y números)\n",
    "palabras_stanza = [word.text for sent in doc_stanza.sentences for word in sent.words if word.text.isalpha()]\n",
    "\n",
    "# Contar la frecuencia de cada palabra\n",
    "frecuencia_palabras_stanza = Counter(palabras_stanza)\n",
    "\n",
    "# Obtener las 20 palabras únicas más frecuentes\n",
    "top_20_palabras_stanza = frecuencia_palabras_stanza.most_common(20)\n",
    "\n",
    "\n",
    "# Mostrar resultados\n",
    "print(\"Top 20 spacy:\",top_20_palabras_spacy)\n",
    "print(\"Top 20 stanza:\",top_20_palabras_stanza)\n",
    "\n",
    "\n"
   ]
  },
  {
   "cell_type": "markdown",
   "metadata": {},
   "source": [
    "6.¿Cuál es el número promedio de palabras por oración?."
   ]
  },
  {
   "cell_type": "code",
   "execution_count": 10,
   "metadata": {},
   "outputs": [
    {
     "name": "stdout",
     "output_type": "stream",
     "text": [
      "palabras promedio spacy: 4.56\n",
      "palabras promedio stanza: 4.66\n"
     ]
    }
   ],
   "source": [
    "#cargamos el modelo\n",
    "doc_spacy = nlp_spacy(texto)\n",
    "oraciones_totales_spacy=len(list(doc_spacy.sents))\n",
    "palabras_promedio_spacy=total_spacy/oraciones_totales_spacy\n",
    "\n",
    "doc_stanza = nlp_stanza(texto)\n",
    "oraciones_totales_stanza=len(list(doc_stanza.sentences))\n",
    "palabras_promedio_stanza=total_stanza/oraciones_totales_stanza\n",
    "\n",
    "print(\"palabras promedio spacy:\",round(palabras_promedio_spacy,2))\n",
    "print(\"palabras promedio stanza:\",round(palabras_promedio_stanza,2))"
   ]
  },
  {
   "cell_type": "markdown",
   "metadata": {},
   "source": [
    "7.¿Cuál es la frecuencia de de sustantivos, adjetivos y verbos en el texto?."
   ]
  },
  {
   "cell_type": "code",
   "execution_count": 34,
   "metadata": {},
   "outputs": [
    {
     "name": "stdout",
     "output_type": "stream",
     "text": [
      "Sustantivos spacy: 104\n",
      "Adjetivos spacy: 85\n",
      "Verbos spacy: 106\n",
      "Sustantivos stanza: 133\n",
      "Adjetivos stanza: 84\n",
      "Verbos stanza: 124\n"
     ]
    }
   ],
   "source": [
    "#cargamos el modelo\n",
    "doc_spacy = nlp_spacy(string_unico)\n",
    "doc_stanza = nlp_stanza(string_unico)\n",
    "\n",
    "\n",
    "\n",
    "frecuencia_categorias_spacy = Counter(token.pos_ for token in doc_spacy)\n",
    "\n",
    "frecuencia_sustantivos_spacy = frecuencia_categorias_spacy[\"NOUN\"]\n",
    "frecuencia_adjetivos_spacy = frecuencia_categorias_spacy[\"ADJ\"]\n",
    "frecuencia_verbos_spacy = frecuencia_categorias_spacy[\"VERB\"]\n",
    "\n",
    "print(\"Sustantivos spacy:\", frecuencia_sustantivos_spacy)\n",
    "print(\"Adjetivos spacy:\", frecuencia_adjetivos_spacy)\n",
    "print(\"Verbos spacy:\",frecuencia_verbos_spacy)\n",
    "\n",
    "\n",
    "\n",
    "\n",
    "\n",
    "frecuencia_categorias_stanza = Counter(word.upos for sent in doc_stanza.sentences for word in sent.words)\n",
    "\n",
    "frecuencia_sustantivos_stanza = frecuencia_categorias_stanza.get(\"NOUN\", 0)\n",
    "frecuencia_adjetivos_stanza = frecuencia_categorias_stanza.get(\"ADJ\", 0)\n",
    "frecuencia_verbos_stanza = frecuencia_categorias_stanza.get(\"VERB\", 0)\n",
    "\n",
    "print(\"Sustantivos stanza:\", frecuencia_sustantivos_stanza)\n",
    "print(\"Adjetivos stanza:\", frecuencia_adjetivos_stanza)\n",
    "print(\"Verbos stanza:\",frecuencia_verbos_stanza)\n"
   ]
  }
 ],
 "metadata": {
  "kernelspec": {
   "display_name": "Python 3",
   "language": "python",
   "name": "python3"
  },
  "language_info": {
   "codemirror_mode": {
    "name": "ipython",
    "version": 3
   },
   "file_extension": ".py",
   "mimetype": "text/x-python",
   "name": "python",
   "nbconvert_exporter": "python",
   "pygments_lexer": "ipython3",
   "version": "3.10.5"
  }
 },
 "nbformat": 4,
 "nbformat_minor": 2
}
