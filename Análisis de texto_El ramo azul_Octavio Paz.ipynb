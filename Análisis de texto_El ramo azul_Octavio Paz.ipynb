{
 "cells": [
  {
   "cell_type": "code",
   "execution_count": 20,
   "metadata": {},
   "outputs": [
    {
     "name": "stderr",
     "output_type": "stream",
     "text": [
      "Downloading https://raw.githubusercontent.com/stanfordnlp/stanza-resources/main/resources_1.10.0.json: 424kB [00:00, 17.7MB/s]                    \n",
      "2025-02-18 21:53:09 INFO: Downloaded file to C:\\Users\\León\\stanza_resources\\resources.json\n",
      "2025-02-18 21:53:09 INFO: Downloading default packages for language: es (Spanish) ...\n",
      "Downloading https://huggingface.co/stanfordnlp/stanza-es/resolve/v1.10.0/models/default.zip: 100%|██████████| 642M/642M [01:05<00:00, 9.86MB/s] \n",
      "2025-02-18 21:54:17 INFO: Downloaded file to C:\\Users\\León\\stanza_resources\\es\\default.zip\n",
      "2025-02-18 21:54:21 INFO: Finished downloading models and saved to C:\\Users\\León\\stanza_resources\n"
     ]
    }
   ],
   "source": [
    "#pip install spacy\n",
    "#!python -m spacy download es_core_news_sm\n",
    "#!pip install stanza\n",
    "#!pip install ipywidgets\n",
    "\n",
    "# Descargamos el modelo en español.\n",
    "#stanza.download(\"es\")"
   ]
  },
  {
   "cell_type": "code",
   "execution_count": 66,
   "metadata": {},
   "outputs": [],
   "source": [
    "#Librerias\n",
    "import spacy\n",
    "import stanza\n",
    "\n",
    "import string\n",
    "from collections import Counter"
   ]
  },
  {
   "cell_type": "code",
   "execution_count": 43,
   "metadata": {},
   "outputs": [],
   "source": [
    "#Leemos el texto\n",
    "with open(\"elramoazul.txt\", \"r\", encoding=\"utf-8\") as f:\n",
    "    texto = f.read()\n",
    "\n",
    "#lo dejamos en minusculas para evitar palabras repetidas\n",
    "texto=texto.lower()"
   ]
  },
  {
   "cell_type": "code",
   "execution_count": 4,
   "metadata": {},
   "outputs": [
    {
     "name": "stderr",
     "output_type": "stream",
     "text": [
      "2025-02-19 13:33:25 INFO: Checking for updates to resources.json in case models have been updated.  Note: this behavior can be turned off with download_method=None or download_method=DownloadMethod.REUSE_RESOURCES\n"
     ]
    },
    {
     "data": {
      "application/vnd.jupyter.widget-view+json": {
       "model_id": "18cf59aae3404abfb41c02c47eda5ed4",
       "version_major": 2,
       "version_minor": 0
      },
      "text/plain": [
       "Downloading https://raw.githubusercontent.com/stanfordnlp/stanza-resources/main/resources_1.10.0.json:   0%|  …"
      ]
     },
     "metadata": {},
     "output_type": "display_data"
    },
    {
     "name": "stderr",
     "output_type": "stream",
     "text": [
      "2025-02-19 13:33:26 INFO: Downloaded file to C:\\Users\\León\\stanza_resources\\resources.json\n",
      "2025-02-19 13:33:26 WARNING: Language es package default expects mwt, which has been added\n",
      "2025-02-19 13:33:26 INFO: Loading these models for language: es (Spanish):\n",
      "========================\n",
      "| Processor | Package  |\n",
      "------------------------\n",
      "| tokenize  | combined |\n",
      "| mwt       | combined |\n",
      "========================\n",
      "\n",
      "2025-02-19 13:33:26 INFO: Using device: cpu\n",
      "2025-02-19 13:33:26 INFO: Loading: tokenize\n",
      "2025-02-19 13:33:28 INFO: Loading: mwt\n",
      "2025-02-19 13:33:28 INFO: Done loading processors!\n"
     ]
    }
   ],
   "source": [
    "#Cargamos los modelos a utilizar\n",
    "\n",
    "#spacy\n",
    "nlp_spacy = spacy.load(\"es_core_news_sm\")\n",
    "\n",
    "#stanza\n",
    "nlp_stanza = stanza.Pipeline(lang=\"es\", processors=\"tokenize\")\n"
   ]
  },
  {
   "cell_type": "markdown",
   "metadata": {},
   "source": [
    "1.Cuantas palabras hay en el texto? (descartando símbolos de puntuación)."
   ]
  },
  {
   "cell_type": "code",
   "execution_count": 46,
   "metadata": {},
   "outputs": [
    {
     "name": "stdout",
     "output_type": "stream",
     "text": [
      "Total de palabras: 792\n"
     ]
    }
   ],
   "source": [
    "#signos encontrados postanalisis\n",
    "signos_extra = '¡¿—–-\"“\\n\\n' \n",
    "\n",
    "#sin puntuación\n",
    "texto_sin_puntuacion = texto.translate(str.maketrans(\"\", \"\", string.punctuation+ signos_extra))\n",
    "\n",
    "palabras_separadas=texto_sin_puntuacion.split()\n",
    "#Tamaño\n",
    "total_palabras = len(palabras_separadas)\n",
    "\n",
    "#total de palabras\n",
    "print(\"Total de palabras:\",total_palabras)\n"
   ]
  },
  {
   "cell_type": "markdown",
   "metadata": {},
   "source": [
    "2.Cuantas palabras diferentes hay?."
   ]
  },
  {
   "cell_type": "code",
   "execution_count": 36,
   "metadata": {},
   "outputs": [
    {
     "name": "stdout",
     "output_type": "stream",
     "text": [
      "Total de palabras únicas: 435\n"
     ]
    }
   ],
   "source": [
    "palabras_unicas = set(palabras_separadas)\n",
    "palabras_unicas_total=len(palabras_unicas)\n",
    "print(\"Total de palabras únicas:\",palabras_unicas_total)"
   ]
  },
  {
   "cell_type": "markdown",
   "metadata": {},
   "source": [
    "3.Después de lematizar las palabras, cuántas palabras diferentes hay?."
   ]
  },
  {
   "cell_type": "code",
   "execution_count": null,
   "metadata": {},
   "outputs": [
    {
     "name": "stdout",
     "output_type": "stream",
     "text": [
      "Total de palabras lematizadas spacy: 436\n",
      "Total de palabras lematizadas stanza: 448\n"
     ]
    }
   ],
   "source": [
    "# Convertir la lista en un string\n",
    "string_unico = \" \".join(palabras_unicas)\n",
    "\n",
    "\n",
    "#spacy\n",
    "\n",
    "#cargamos el modelo\n",
    "doc_spacy = nlp_spacy(string_unico)\n",
    "\n",
    "#obtenemos lemas\n",
    "# Obtener lemas\n",
    "lemmas_spacy = [token.lemma_ for token in doc_spacy]\n",
    "\n",
    "total_spacy=len(lemmas_spacy)\n",
    "\n",
    "\n",
    "#stanza\n",
    "\n",
    "doc_stanza = nlp_stanza(string_unico)\n",
    "# Extraer palabras (ignorando puntuación y espacios)\n",
    "lemmas_stanza = [word.text.lower() for sent in doc_stanza.sentences for word in sent.words if word.text.isalpha()]\n",
    "\n",
    "total_stanza=len(lemmas_stanza)\n",
    "\n",
    "print(\"Total de palabras lematizadas spacy:\",total_spacy)\n",
    "print(\"Total de palabras lematizadas stanza:\",total_stanza)\n"
   ]
  },
  {
   "cell_type": "markdown",
   "metadata": {},
   "source": [
    " Entre muchos ejemplos más vemos las transformaciones que hay entre spacy->stanza\n",
    " 'servir'->'sirven'\n",
    " 'deja'->'dejas'\n",
    " 'estar'->'estaba'\n",
    " 'ojo'->'ojos'\n"
   ]
  },
  {
   "cell_type": "markdown",
   "metadata": {},
   "source": [
    "4.¿Cuál es la diversidad léxica del texto dado? (relación de palabras únicas con respecto al número total de palabras)."
   ]
  },
  {
   "cell_type": "code",
   "execution_count": 65,
   "metadata": {},
   "outputs": [
    {
     "name": "stdout",
     "output_type": "stream",
     "text": [
      "Diversidad lexica: 54.92 %\n",
      "Lo siguiente no se si sea valido\n",
      "Diversidad spacy: 55.05 %\n",
      "Diversidad stanza: 56.57 %\n"
     ]
    }
   ],
   "source": [
    "\n",
    "div_pura=palabras_unicas_total/total_palabras\n",
    "\n",
    "div_spacy=total_spacy/total_palabras\n",
    "div_stanza=total_stanza/total_palabras\n",
    "\n",
    "print(\"Diversidad lexica:\",round(div_pura*100,2),\"%\")\n",
    "print(\"Lo siguiente no se si sea valido\")\n",
    "print(\"Diversidad spacy:\",round(div_spacy*100,2),\"%\")\n",
    "print(\"Diversidad stanza:\",round(div_stanza*100,2),\"%\")"
   ]
  },
  {
   "cell_type": "markdown",
   "metadata": {},
   "source": [
    "5.¿Cuáles son las 20 palabras (únicas) más frecuentes en el texto? ¿Cuál es su frecuencia?."
   ]
  },
  {
   "cell_type": "code",
   "execution_count": null,
   "metadata": {},
   "outputs": [
    {
     "name": "stdout",
     "output_type": "stream",
     "text": [
      "Top 20 spacy: [('de', 37), ('la', 35), ('el', 22), ('me', 22), ('y', 19), ('un', 16), ('no', 16), ('los', 16), ('a', 13), ('una', 11), ('con', 11), ('se', 10), ('que', 10), ('ojos', 10), ('al', 8), ('en', 7), ('las', 7), ('del', 6), ('mis', 6), ('entre', 5)]\n",
      "Top 20 stanza: [('de', 43), ('el', 36), ('la', 35), ('me', 28), ('a', 21), ('y', 19), ('un', 16), ('los', 16), ('no', 15), ('una', 11), ('con', 11), ('se', 10), ('que', 10), ('ojos', 10), ('en', 7), ('las', 7), ('mis', 6), ('entre', 5), ('lo', 5), ('señor', 5)]\n"
     ]
    }
   ],
   "source": [
    "#cargamos el modelo\n",
    "doc_spacy = nlp_spacy(texto_sin_puntuacion)\n",
    "\n",
    "# Obtener solo palabras (ignorando puntuación y números)\n",
    "palabras_spacy = [token.text for token in doc_spacy if token.is_alpha]\n",
    "\n",
    "# Contar la frecuencia de cada palabra\n",
    "frecuencia_palabras_spacy = Counter(palabras_spacy)\n",
    "\n",
    "# Obtener las 20 palabras únicas más frecuentes\n",
    "top_20_palabras_spacy = frecuencia_palabras_spacy.most_common(20)\n",
    "\n",
    "\n",
    "\n",
    "# Procesar el texto con Stanza\n",
    "doc_stanza = nlp_stanza(texto_sin_puntuacion)\n",
    "\n",
    "# Extraer solo palabras (ignorando puntuación y números)\n",
    "palabras_stanza = [word.text for sent in doc_stanza.sentences for word in sent.words if word.text.isalpha()]\n",
    "\n",
    "# Contar la frecuencia de cada palabra\n",
    "frecuencia_palabras_stanza = Counter(palabras_stanza)\n",
    "\n",
    "# Obtener las 20 palabras únicas más frecuentes\n",
    "top_20_palabras_stanza = frecuencia_palabras_stanza.most_common(20)\n",
    "\n",
    "\n",
    "# Mostrar resultados\n",
    "print(\"Top 20 spacy:\",top_20_palabras_spacy)\n",
    "print(\"Top 20 stanza:\",top_20_palabras_stanza)\n",
    "\n",
    "\n"
   ]
  },
  {
   "cell_type": "markdown",
   "metadata": {},
   "source": [
    "6.¿Cuál es el número promedio de palabras por oración?."
   ]
  },
  {
   "cell_type": "code",
   "execution_count": 92,
   "metadata": {},
   "outputs": [
    {
     "name": "stdout",
     "output_type": "stream",
     "text": [
      "palabras promedio spacy: 4.54\n",
      "palabras promedio stanza: 4.67\n"
     ]
    }
   ],
   "source": [
    "#cargamos el modelo\n",
    "doc_spacy = nlp_spacy(texto)\n",
    "oraciones_totales_spacy=len(list(doc_spacy.sents))\n",
    "palabras_promedio_spacy=total_spacy/oraciones_totales_spacy\n",
    "\n",
    "doc_stanza = nlp_stanza(texto)\n",
    "oraciones_totales_stanza=len(list(doc_stanza.sentences))\n",
    "palabras_promedio_stanza=total_stanza/oraciones_totales_stanza\n",
    "\n",
    "print(\"palabras promedio spacy:\",round(palabras_promedio_spacy,2))\n",
    "print(\"palabras promedio stanza:\",round(palabras_promedio_stanza,2))"
   ]
  }
 ],
 "metadata": {
  "kernelspec": {
   "display_name": "Python 3",
   "language": "python",
   "name": "python3"
  },
  "language_info": {
   "codemirror_mode": {
    "name": "ipython",
    "version": 3
   },
   "file_extension": ".py",
   "mimetype": "text/x-python",
   "name": "python",
   "nbconvert_exporter": "python",
   "pygments_lexer": "ipython3",
   "version": "3.10.5"
  }
 },
 "nbformat": 4,
 "nbformat_minor": 2
}
