{
 "cells": [
  {
   "cell_type": "code",
   "execution_count": 20,
   "metadata": {},
   "outputs": [
    {
     "name": "stderr",
     "output_type": "stream",
     "text": [
      "Downloading https://raw.githubusercontent.com/stanfordnlp/stanza-resources/main/resources_1.10.0.json: 424kB [00:00, 17.7MB/s]                    \n",
      "2025-02-18 21:53:09 INFO: Downloaded file to C:\\Users\\León\\stanza_resources\\resources.json\n",
      "2025-02-18 21:53:09 INFO: Downloading default packages for language: es (Spanish) ...\n",
      "Downloading https://huggingface.co/stanfordnlp/stanza-es/resolve/v1.10.0/models/default.zip: 100%|██████████| 642M/642M [01:05<00:00, 9.86MB/s] \n",
      "2025-02-18 21:54:17 INFO: Downloaded file to C:\\Users\\León\\stanza_resources\\es\\default.zip\n",
      "2025-02-18 21:54:21 INFO: Finished downloading models and saved to C:\\Users\\León\\stanza_resources\n"
     ]
    }
   ],
   "source": [
    "#pip install spacy\n",
    "#!python -m spacy download es_core_news_sm\n",
    "#!pip install stanza\n",
    "#!pip install ipywidgets\n",
    "\n",
    "# Descargamos el modelo en español.\n",
    "#stanza.download(\"es\")"
   ]
  },
  {
   "cell_type": "code",
   "execution_count": 19,
   "metadata": {},
   "outputs": [],
   "source": [
    "#Librerias\n",
    "import spacy\n",
    "import stanza"
   ]
  },
  {
   "cell_type": "markdown",
   "metadata": {},
   "source": [
    "1.Cuantas palabras hay en el texto? (descartando símbolos de puntuación)."
   ]
  },
  {
   "cell_type": "code",
   "execution_count": 11,
   "metadata": {},
   "outputs": [
    {
     "name": "stdout",
     "output_type": "stream",
     "text": [
      "Total de palabras: 806\n",
      "Palabras únicas: 425\n"
     ]
    }
   ],
   "source": [
    "#spacy\n",
    "# estanciamos el modelo en español de spacy\n",
    "nlp = spacy.load(\"es_core_news_sm\")\n",
    "\n",
    "#cargamos el texto\n",
    "with open(\"elramoazul.txt\", \"r\", encoding=\"utf-8\") as f:\n",
    "    texto = f.read()\n",
    "\n",
    "#se procesa con sapcy \n",
    "doc = nlp(texto)\n",
    "\n",
    "# estadarizamos el texto\n",
    "palabras = [token.text.lower() for token in doc if token.is_alpha]\n",
    "\n",
    "# Contamos palabas\n",
    "total_palabras = len(palabras)\n",
    "\n",
    "# Contar palabras únicas\n",
    "palabras_unicas = set(palabras)\n",
    "total_palabras_unicas = len(palabras_unicas)\n",
    "\n",
    "# Mostrar resultados\n",
    "print(f\"Total de palabras: {total_palabras}\")\n",
    "print(f\"Palabras únicas: {total_palabras_unicas}\")\n"
   ]
  },
  {
   "cell_type": "code",
   "execution_count": null,
   "metadata": {},
   "outputs": [],
   "source": []
  }
 ],
 "metadata": {
  "kernelspec": {
   "display_name": "Python 3",
   "language": "python",
   "name": "python3"
  },
  "language_info": {
   "codemirror_mode": {
    "name": "ipython",
    "version": 3
   },
   "file_extension": ".py",
   "mimetype": "text/x-python",
   "name": "python",
   "nbconvert_exporter": "python",
   "pygments_lexer": "ipython3",
   "version": "3.10.5"
  }
 },
 "nbformat": 4,
 "nbformat_minor": 2
}
