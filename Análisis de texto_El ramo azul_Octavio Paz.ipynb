{
 "cells": [
  {
   "cell_type": "code",
   "execution_count": 20,
   "metadata": {},
   "outputs": [
    {
     "name": "stderr",
     "output_type": "stream",
     "text": [
      "Downloading https://raw.githubusercontent.com/stanfordnlp/stanza-resources/main/resources_1.10.0.json: 424kB [00:00, 17.7MB/s]                    \n",
      "2025-02-18 21:53:09 INFO: Downloaded file to C:\\Users\\León\\stanza_resources\\resources.json\n",
      "2025-02-18 21:53:09 INFO: Downloading default packages for language: es (Spanish) ...\n",
      "Downloading https://huggingface.co/stanfordnlp/stanza-es/resolve/v1.10.0/models/default.zip: 100%|██████████| 642M/642M [01:05<00:00, 9.86MB/s] \n",
      "2025-02-18 21:54:17 INFO: Downloaded file to C:\\Users\\León\\stanza_resources\\es\\default.zip\n",
      "2025-02-18 21:54:21 INFO: Finished downloading models and saved to C:\\Users\\León\\stanza_resources\n"
     ]
    }
   ],
   "source": [
    "#pip install spacy\n",
    "#!python -m spacy download es_core_news_sm\n",
    "#!pip install stanza\n",
    "#!pip install ipywidgets\n",
    "\n",
    "# Descargamos el modelo en español.\n",
    "#stanza.download(\"es\")"
   ]
  },
  {
   "cell_type": "code",
   "execution_count": 19,
   "metadata": {},
   "outputs": [],
   "source": [
    "#Librerias\n",
    "import spacy\n",
    "import stanza"
   ]
  },
  {
   "cell_type": "markdown",
   "metadata": {},
   "source": [
    "1.Cuantas palabras hay en el texto? (descartando símbolos de puntuación)."
   ]
  },
  {
   "cell_type": "code",
   "execution_count": 26,
   "metadata": {},
   "outputs": [
    {
     "name": "stdout",
     "output_type": "stream",
     "text": [
      "Total de palabras: 806\n",
      "Palabras únicas: 425\n"
     ]
    }
   ],
   "source": [
    "#spacy\n",
    "# estanciamos el modelo en español de spacy\n",
    "nlp = spacy.load(\"es_core_news_sm\")\n",
    "\n",
    "#cargamos el texto\n",
    "with open(\"elramoazul.txt\", \"r\", encoding=\"utf-8\") as f:\n",
    "    texto = f.read()\n",
    "\n",
    "#se procesa con sapcy \n",
    "doc = nlp(texto)\n",
    "\n",
    "# estadarizamos el texto\n",
    "palabras = [token.text.lower() for token in doc if token.is_alpha]\n",
    "\n",
    "# Contamos palabas\n",
    "total_palabras = len(palabras)\n",
    "\n",
    "# Contar palabras únicas\n",
    "palabras_unicas = set(palabras)\n",
    "total_palabras_unicas = len(palabras_unicas)\n",
    "\n",
    "# Mostrar resultados\n",
    "print(f\"Total de palabras: {total_palabras}\")\n",
    "print(f\"Palabras únicas: {total_palabras_unicas}\")\n"
   ]
  },
  {
   "cell_type": "code",
   "execution_count": 30,
   "metadata": {},
   "outputs": [
    {
     "name": "stderr",
     "output_type": "stream",
     "text": [
      "2025-02-18 22:10:10 INFO: Checking for updates to resources.json in case models have been updated.  Note: this behavior can be turned off with download_method=None or download_method=DownloadMethod.REUSE_RESOURCES\n",
      "Downloading https://raw.githubusercontent.com/stanfordnlp/stanza-resources/main/resources_1.10.0.json: 424kB [00:00, 7.71MB/s]                    \n",
      "2025-02-18 22:10:10 INFO: Downloaded file to C:\\Users\\León\\stanza_resources\\resources.json\n",
      "2025-02-18 22:10:11 WARNING: Language es package default expects mwt, which has been added\n",
      "2025-02-18 22:10:11 INFO: Loading these models for language: es (Spanish):\n",
      "========================\n",
      "| Processor | Package  |\n",
      "------------------------\n",
      "| tokenize  | combined |\n",
      "| mwt       | combined |\n",
      "========================\n",
      "\n",
      "2025-02-18 22:10:11 INFO: Using device: cpu\n",
      "2025-02-18 22:10:11 INFO: Loading: tokenize\n",
      "2025-02-18 22:10:11 INFO: Loading: mwt\n",
      "2025-02-18 22:10:11 INFO: Done loading processors!\n"
     ]
    },
    {
     "name": "stdout",
     "output_type": "stream",
     "text": [
      "Total de palabras: 846\n",
      "Palabras únicas: 431\n"
     ]
    }
   ],
   "source": [
    "nlp = stanza.Pipeline(lang=\"es\", processors=\"tokenize\")\n",
    "# Procesar el texto con Stanza\n",
    "doc = nlp(texto)\n",
    "\n",
    "\n",
    "# Extraer palabras (ignorando puntuación y espacios)\n",
    "palabras = [word.text.lower() for sent in doc.sentences for word in sent.words if word.text.isalpha()]\n",
    "\n",
    "\n",
    "# Contar palabras totales y únicas\n",
    "total_palabras = len(palabras)\n",
    "palabras_unicas = set(palabras)\n",
    "total_palabras_unicas = len(palabras_unicas)\n",
    "\n",
    "# Mostrar resultados\n",
    "print(f\"Total de palabras: {total_palabras}\")\n",
    "print(f\"Palabras únicas: {total_palabras_unicas}\")\n"
   ]
  },
  {
   "cell_type": "markdown",
   "metadata": {},
   "source": [
    "Notamos una diferencia en total de palabras entre spacy y stanza, esto se debe a que stanza segmenta palabras en dos tales como:\n",
    "\n",
    "'del' -> 'de' y 'el'\n",
    "'al' -> 'a' y 'el'\n",
    "\n",
    "Mientras que spacy mantiene el conteo como una única palabra\n",
    "\n",
    "\n",
    "En paralabras unicas encontramos diferencias como en:\n",
    "\n",
    " 'cerciorarme' mientras que spacy la registra tal cual viene en el texto en stanza usan la raiz de la palabra 'cerciorar'"
   ]
  }
 ],
 "metadata": {
  "kernelspec": {
   "display_name": "Python 3",
   "language": "python",
   "name": "python3"
  },
  "language_info": {
   "codemirror_mode": {
    "name": "ipython",
    "version": 3
   },
   "file_extension": ".py",
   "mimetype": "text/x-python",
   "name": "python",
   "nbconvert_exporter": "python",
   "pygments_lexer": "ipython3",
   "version": "3.10.5"
  }
 },
 "nbformat": 4,
 "nbformat_minor": 2
}
