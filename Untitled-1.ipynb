{
 "cells": [
  {
   "cell_type": "code",
   "execution_count": 2,
   "metadata": {},
   "outputs": [
    {
     "name": "stdout",
     "output_type": "stream",
     "text": [
      "7\n"
     ]
    }
   ],
   "source": [
    "def buscar_elemento_k(arr, k):\n",
    "    n = k\n",
    "\n",
    "    # Función para encontrar la posición del elemento más pequeño (punto de rotación)\n",
    "    def encontrar_rotacion(arr):\n",
    "        inicio, fin = 0, n - 1\n",
    "        while inicio < fin:\n",
    "            medio = (inicio + fin) // 2\n",
    "            if arr[medio] > arr[fin]:\n",
    "                inicio = medio + 1\n",
    "            else:\n",
    "                fin = medio\n",
    "        return inicio\n",
    "\n",
    "    # Encuentra el punto de rotación\n",
    "    rotacion = encontrar_rotacion(arr)\n",
    "\n",
    "    # El índice real en el arreglo original antes de la rotación\n",
    "    indice_real = (rotacion + k - 1) % n\n",
    "\n",
    "    # Retorna el elemento en la posición k-esima\n",
    "    return arr[indice_real]\n",
    "\n",
    "# Ejemplo de uso:\n",
    "A = [15, 16, 19, 20, 25, 1, 3, 4, 5, 7, 10, 14]\n",
    "k = 5\n",
    "print(buscar_elemento_k(A, k))  # Resultado: 7\n",
    "\n"
   ]
  },
  {
   "cell_type": "code",
   "execution_count": null,
   "metadata": {},
   "outputs": [],
   "source": []
  }
 ],
 "metadata": {
  "kernelspec": {
   "display_name": "Python 3",
   "language": "python",
   "name": "python3"
  },
  "language_info": {
   "codemirror_mode": {
    "name": "ipython",
    "version": 3
   },
   "file_extension": ".py",
   "mimetype": "text/x-python",
   "name": "python",
   "nbconvert_exporter": "python",
   "pygments_lexer": "ipython3",
   "version": "undefined.undefined.undefined"
  }
 },
 "nbformat": 4,
 "nbformat_minor": 2
}
