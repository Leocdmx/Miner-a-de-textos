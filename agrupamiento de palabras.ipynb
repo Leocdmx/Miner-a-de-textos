{
 "cells": [
  {
   "cell_type": "code",
   "execution_count": null,
   "metadata": {},
   "outputs": [
    {
     "name": "stdout",
     "output_type": "stream",
     "text": [
      "Defaulting to user installation because normal site-packages is not writeable\n",
      "Collecting nltk\n",
      "  Downloading nltk-3.9.1-py3-none-any.whl.metadata (2.9 kB)\n",
      "Requirement already satisfied: click in /Users/patyfernandez/Library/Python/3.9/lib/python/site-packages (from nltk) (8.1.8)\n",
      "Requirement already satisfied: joblib in /Users/patyfernandez/Library/Python/3.9/lib/python/site-packages (from nltk) (1.4.2)\n",
      "Collecting regex>=2021.8.3 (from nltk)\n",
      "  Downloading regex-2024.11.6-cp39-cp39-macosx_11_0_arm64.whl.metadata (40 kB)\n",
      "Requirement already satisfied: tqdm in /Users/patyfernandez/Library/Python/3.9/lib/python/site-packages (from nltk) (4.67.1)\n",
      "Downloading nltk-3.9.1-py3-none-any.whl (1.5 MB)\n",
      "\u001b[2K   \u001b[90m━━━━━━━━━━━━━━━━━━━━━━━━━━━━━━━━━━━━━━━━\u001b[0m \u001b[32m1.5/1.5 MB\u001b[0m \u001b[31m12.3 MB/s\u001b[0m eta \u001b[36m0:00:00\u001b[0m\n",
      "\u001b[?25hDownloading regex-2024.11.6-cp39-cp39-macosx_11_0_arm64.whl (284 kB)\n",
      "Installing collected packages: regex, nltk\n",
      "Successfully installed nltk-3.9.1 regex-2024.11.6\n"
     ]
    }
   ],
   "source": [
    "#pip install --upgrade gensim\n",
    "#!pip install nltk"
   ]
  },
  {
   "cell_type": "code",
   "execution_count": 21,
   "metadata": {},
   "outputs": [],
   "source": [
    "from gensim.models import Word2Vec\n",
    "from nltk.tokenize import word_tokenize\n",
    "import nltk"
   ]
  },
  {
   "cell_type": "code",
   "execution_count": 23,
   "metadata": {},
   "outputs": [
    {
     "name": "stdout",
     "output_type": "stream",
     "text": [
      "[['el', 'perro', 'juega', 'en', 'el', 'parque'], ['el', 'gato', 'duerme', 'en', 'la', 'casa'], ['el', 'niño', 'corre', 'con', 'el', 'perro'], ['el', 'parque', 'tiene', 'muchos', 'árboles'], ['el', 'gato', 'y', 'el', 'perro', 'son', 'amigos']]\n"
     ]
    }
   ],
   "source": [
    "# Pequeño corpus de frases\n",
    "corpus = [\n",
    "    \"El perro juega en el parque\",\n",
    "    \"El gato duerme en la casa\",\n",
    "    \"El niño corre con el perro\",\n",
    "    \"El parque tiene muchos árboles\",\n",
    "    \"El gato y el perro son amigos\"\n",
    "]\n",
    "\n",
    "# Tokenizar el texto (convertirlo en listas de palabras)\n",
    "tokenized_corpus = [word_tokenize(sentence.lower()) for sentence in corpus]\n",
    "\n",
    "# Imprimir el corpus tokenizado\n",
    "print(tokenized_corpus)\n"
   ]
  },
  {
   "cell_type": "code",
   "execution_count": 24,
   "metadata": {},
   "outputs": [],
   "source": [
    "# Entrenar el modelo Word2Vec\n",
    "model = Word2Vec(sentences=tokenized_corpus, vector_size=50, window=3, min_count=1, workers=4)\n",
    "\n",
    "# Guardar el modelo entrenado\n",
    "model.save(\"mi_modelo_word2vec.model\")\n"
   ]
  },
  {
   "cell_type": "code",
   "execution_count": 28,
   "metadata": {},
   "outputs": [
    {
     "name": "stdout",
     "output_type": "stream",
     "text": [
      "Vector de 'perro': [-0.01633267  0.00899963 -0.00828341  0.00163714  0.01699878]\n",
      "Palabras similares a 'perro': [('y', 0.22987443208694458), ('gato', 0.12572839856147766), ('con', 0.08090853691101074)]\n",
      "Similitud entre 'perro' y 'gato': 0.1257284\n"
     ]
    }
   ],
   "source": [
    "# Cargar el modelo\n",
    "model = Word2Vec.load(\"mi_modelo_word2vec.model\")\n",
    "\n",
    "# Obtener el vector de una palabra\n",
    "vector_perro = model.wv[\"perro\"]\n",
    "print(\"Vector de 'perro':\", vector_perro[:5])  # Mostrar solo los primeros valores\n",
    "\n",
    "# Encontrar palabras similares a \"perro\"\n",
    "similares_perro = model.wv.most_similar(\"perro\", topn=3)\n",
    "print(\"Palabras similares a 'perro':\", similares_perro)\n",
    "\n",
    "# Calcular similitud entre dos palabras\n",
    "similitud = model.wv.similarity(\"perro\", \"gato\")\n",
    "print(\"Similitud entre 'perro' y 'gato':\", similitud)\n"
   ]
  },
  {
   "cell_type": "code",
   "execution_count": 29,
   "metadata": {},
   "outputs": [
    {
     "name": "stdout",
     "output_type": "stream",
     "text": [
      "Similitud entre 'dog' y 'cat': 0.7609457\n"
     ]
    }
   ],
   "source": [
    "import gensim.downloader as api\n",
    "\n",
    "# Cargar modelo preentrenado\n",
    "model = api.load(\"word2vec-google-news-300\")\n",
    "\n",
    "# Similitud entre 'perro' y 'gato'\n",
    "similarity = model.similarity(\"dog\", \"cat\")\n",
    "print(\"Similitud entre 'dog' y 'cat':\", similarity)\n"
   ]
  },
  {
   "cell_type": "code",
   "execution_count": null,
   "metadata": {},
   "outputs": [],
   "source": [
    "\n",
    "# Seleccionar palabras para visualizar\n",
    "words = list(model.index_to_key)  # Obtener todas las palabras entrenadas\n",
    "word_vectors = np.array([model[word] for word in words])  # Obtener los vectores\n",
    "\n",
    "# Reducir a 2D con t-SNE\n",
    "tsne = TSNE(n_components=2, perplexity=min(len(words)-1, 5), random_state=42)\n",
    "\n",
    "word_vectors_2d = tsne.fit_transform(word_vectors)\n",
    "\n",
    "# Graficar los puntos en 2D\n",
    "plt.figure(figsize=(8, 6))\n",
    "for i, word in enumerate(words):\n",
    "    plt.scatter(word_vectors_2d[i, 0], word_vectors_2d[i, 1])\n",
    "    plt.annotate(word, (word_vectors_2d[i, 0], word_vectors_2d[i, 1]))\n",
    "\n",
    "plt.title(\"Visualización de Word2Vec en 2D con t-SNE\")\n",
    "plt.show()\n"
   ]
  },
  {
   "cell_type": "code",
   "execution_count": null,
   "metadata": {},
   "outputs": [],
   "source": []
  }
 ],
 "metadata": {
  "kernelspec": {
   "display_name": "Python 3",
   "language": "python",
   "name": "python3"
  },
  "language_info": {
   "codemirror_mode": {
    "name": "ipython",
    "version": 3
   },
   "file_extension": ".py",
   "mimetype": "text/x-python",
   "name": "python",
   "nbconvert_exporter": "python",
   "pygments_lexer": "ipython3",
   "version": "3.9.6"
  }
 },
 "nbformat": 4,
 "nbformat_minor": 2
}
