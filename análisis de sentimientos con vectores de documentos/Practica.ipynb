{
 "cells": [
  {
   "cell_type": "code",
   "execution_count": 2,
   "metadata": {},
   "outputs": [],
   "source": [
    "import pandas as pd"
   ]
  },
  {
   "cell_type": "code",
   "execution_count": 1,
   "metadata": {},
   "outputs": [],
   "source": [
    "ruta_rar = '/Users/Leon/Downloads/aclImdb/train/pos'\n"
   ]
  },
  {
   "cell_type": "code",
   "execution_count": 3,
   "metadata": {},
   "outputs": [
    {
     "name": "stderr",
     "output_type": "stream",
     "text": [
      "/Users/Leon/Library/Python/3.9/lib/python/site-packages/urllib3/__init__.py:35: NotOpenSSLWarning: urllib3 v2 only supports OpenSSL 1.1.1+, currently the 'ssl' module is compiled with 'LibreSSL 2.8.3'. See: https://github.com/urllib3/urllib3/issues/3020\n",
      "  warnings.warn(\n"
     ]
    }
   ],
   "source": [
    "import gensim.downloader as api\n",
    "from nltk.tokenize import word_tokenize\n",
    "import numpy as np\n",
    "import os"
   ]
  },
  {
   "cell_type": "code",
   "execution_count": 4,
   "metadata": {},
   "outputs": [],
   "source": [
    "\n",
    "# Cargar embeddings preentrenados\n",
    "word_vectors = api.load(\"glove-wiki-gigaword-100\")\n",
    "\n",
    "def average_word_vector(text, model, dim=100):\n",
    "    words = word_tokenize(text.lower())\n",
    "    vecs = [model[w] for w in words if w in model]\n",
    "    return np.mean(vecs, axis=0) if vecs else np.zeros(dim)\n",
    "\n"
   ]
  },
  {
   "cell_type": "code",
   "execution_count": 5,
   "metadata": {},
   "outputs": [],
   "source": [
    "from gensim.models.doc2vec import Doc2Vec, TaggedDocument\n",
    "\n",
    "import os\n",
    "\n",
    "def load_imdb_data(path):\n",
    "    texts = []\n",
    "    labels = []\n",
    "    for sentiment in ['pos', 'neg']:\n",
    "        dir_path = os.path.join(path, sentiment)\n",
    "        for filename in os.listdir(dir_path):\n",
    "            with open(os.path.join(dir_path, filename), encoding=\"utf-8\") as f:\n",
    "                texts.append(f.read())\n",
    "                labels.append(1 if sentiment == 'pos' else 0)\n",
    "    return texts, labels\n",
    "\n",
    "# Cargar datos de entrenamiento\n",
    "train_path = \"/Users/Leon/Library/CloudStorage/GoogleDrive-leoactuario@ciencias.unam.mx/Mi unidad/maestria/ia/segundo semestre/mineria de textos/análisis de sentimientos con vectores de documentos/aclImdb/train\"\n",
    "all_reviews, labels = load_imdb_data(train_path)\n",
    "\n",
    "\n",
    "\n",
    "\n",
    "# Preparar datos\n",
    "documents = [TaggedDocument(words=word_tokenize(text.lower()), tags=[str(i)])\n",
    "             for i, text in enumerate(all_reviews)]\n",
    "\n",
    "# Entrenar modelo\n",
    "model_d2v = Doc2Vec(documents, vector_size=100, window=5, min_count=2, workers=4, epochs=20)\n",
    "\n",
    "# Obtener vectores\n",
    "vectors_d2v = [model_d2v.infer_vector(doc.words) for doc in documents]\n"
   ]
  },
  {
   "cell_type": "code",
   "execution_count": 8,
   "metadata": {},
   "outputs": [],
   "source": [
    "from sklearn.feature_extraction.text import TfidfVectorizer\n",
    "from sklearn.decomposition import TruncatedSVD\n",
    "\n",
    "tfidf = TfidfVectorizer(max_features=5000)\n",
    "X_tfidf = tfidf.fit_transform(all_reviews)\n",
    "\n",
    "svd = TruncatedSVD(n_components=100)\n",
    "X_lsa = svd.fit_transform(X_tfidf)\n"
   ]
  },
  {
   "cell_type": "code",
   "execution_count": 9,
   "metadata": {},
   "outputs": [
    {
     "ename": "NameError",
     "evalue": "name 'vectors_avg' is not defined",
     "output_type": "error",
     "traceback": [
      "\u001b[0;31m---------------------------------------------------------------------------\u001b[0m",
      "\u001b[0;31mNameError\u001b[0m                                 Traceback (most recent call last)",
      "Cell \u001b[0;32mIn[9], line 12\u001b[0m\n\u001b[1;32m      9\u001b[0m     y_pred \u001b[38;5;241m=\u001b[39m clf\u001b[38;5;241m.\u001b[39mpredict(X_test)\n\u001b[1;32m     10\u001b[0m     \u001b[38;5;28;01mreturn\u001b[39;00m accuracy_score(y_test, y_pred)\n\u001b[0;32m---> 12\u001b[0m acc_avg \u001b[38;5;241m=\u001b[39m train_and_evaluate(\u001b[43mvectors_avg\u001b[49m, labels)\n\u001b[1;32m     13\u001b[0m acc_d2v \u001b[38;5;241m=\u001b[39m train_and_evaluate(vectors_d2v, labels)\n\u001b[1;32m     14\u001b[0m acc_lsa \u001b[38;5;241m=\u001b[39m train_and_evaluate(X_lsa, labels)\n",
      "\u001b[0;31mNameError\u001b[0m: name 'vectors_avg' is not defined"
     ]
    }
   ],
   "source": [
    "from sklearn.model_selection import train_test_split\n",
    "from sklearn.linear_model import LogisticRegression\n",
    "from sklearn.metrics import accuracy_score\n",
    "\n",
    "def train_and_evaluate(X, y):\n",
    "    X_train, X_test, y_train, y_test = train_test_split(X, y, test_size=0.2, random_state=42)\n",
    "    clf = LogisticRegression(max_iter=1000)\n",
    "    clf.fit(X_train, y_train)\n",
    "    y_pred = clf.predict(X_test)\n",
    "    return accuracy_score(y_test, y_pred)\n",
    "\n",
    "acc_avg = train_and_evaluate(vectors_avg, labels)\n",
    "acc_d2v = train_and_evaluate(vectors_d2v, labels)\n",
    "acc_lsa = train_and_evaluate(X_lsa, labels)\n",
    "\n",
    "print(\"Accuracy - Word Vector Average:\", acc_avg)\n",
    "print(\"Accuracy - Doc2Vec:\", acc_d2v)\n",
    "print(\"Accuracy - TFIDF + SVD (LSA):\", acc_lsa)\n"
   ]
  },
  {
   "cell_type": "code",
   "execution_count": 7,
   "metadata": {},
   "outputs": [
    {
     "name": "stdout",
     "output_type": "stream",
     "text": [
      "Defaulting to user installation because normal site-packages is not writeable\n",
      "Collecting scikit-learn\n",
      "  Downloading scikit_learn-1.6.1-cp39-cp39-macosx_10_9_x86_64.whl.metadata (31 kB)\n",
      "Requirement already satisfied: numpy>=1.19.5 in /Users/Leon/Library/Python/3.9/lib/python/site-packages (from scikit-learn) (1.26.4)\n",
      "Requirement already satisfied: scipy>=1.6.0 in /Users/Leon/Library/Python/3.9/lib/python/site-packages (from scikit-learn) (1.13.1)\n",
      "Requirement already satisfied: joblib>=1.2.0 in /Users/Leon/Library/Python/3.9/lib/python/site-packages (from scikit-learn) (1.4.2)\n",
      "Collecting threadpoolctl>=3.1.0 (from scikit-learn)\n",
      "  Downloading threadpoolctl-3.6.0-py3-none-any.whl.metadata (13 kB)\n",
      "Downloading scikit_learn-1.6.1-cp39-cp39-macosx_10_9_x86_64.whl (12.1 MB)\n",
      "\u001b[2K   \u001b[90m━━━━━━━━━━━━━━━━━━━━━━━━━━━━━━━━━━━━━━━━\u001b[0m \u001b[32m12.1/12.1 MB\u001b[0m \u001b[31m10.3 MB/s\u001b[0m eta \u001b[36m0:00:00\u001b[0ma \u001b[36m0:00:01\u001b[0m\n",
      "\u001b[?25hDownloading threadpoolctl-3.6.0-py3-none-any.whl (18 kB)\n",
      "Installing collected packages: threadpoolctl, scikit-learn\n",
      "Successfully installed scikit-learn-1.6.1 threadpoolctl-3.6.0\n",
      "Note: you may need to restart the kernel to use updated packages.\n"
     ]
    }
   ],
   "source": [
    "pip install scikit-learn\n"
   ]
  },
  {
   "cell_type": "code",
   "execution_count": 1,
   "metadata": {},
   "outputs": [
    {
     "name": "stderr",
     "output_type": "stream",
     "text": [
      "/Users/Leon/Library/Python/3.9/lib/python/site-packages/urllib3/__init__.py:35: NotOpenSSLWarning: urllib3 v2 only supports OpenSSL 1.1.1+, currently the 'ssl' module is compiled with 'LibreSSL 2.8.3'. See: https://github.com/urllib3/urllib3/issues/3020\n",
      "  warnings.warn(\n"
     ]
    },
    {
     "name": "stdout",
     "output_type": "stream",
     "text": [
      "Accuracy con vectores promedio de GloVe: 0.7998\n"
     ]
    }
   ],
   "source": [
    "import os, numpy as np, gensim.downloader as api\n",
    "from nltk.tokenize import word_tokenize\n",
    "from sklearn.model_selection import train_test_split\n",
    "from sklearn.linear_model import LogisticRegression\n",
    "from sklearn.metrics import accuracy_score\n",
    "\n",
    "# Descargar embeddings GloVe preentrenados\n",
    "word_vectors = api.load(\"glove-wiki-gigaword-100\")\n",
    "\n",
    "# Cargar dataset IMDB desde carpeta local\n",
    "def load_imdb_data(path):\n",
    "    texts, labels = [], []\n",
    "    for sentiment in ['pos', 'neg']:\n",
    "        dir_path = os.path.join(path, sentiment)\n",
    "        for fname in os.listdir(dir_path):\n",
    "            with open(os.path.join(dir_path, fname), encoding=\"utf-8\") as f:\n",
    "                texts.append(f.read())\n",
    "                labels.append(1 if sentiment == 'pos' else 0)\n",
    "    return texts, labels\n",
    "\n",
    "# Cambia esta ruta según la ubicación del dataset\n",
    "all_reviews, labels = load_imdb_data(\"/Users/Leon/Library/CloudStorage/GoogleDrive-leoactuario@ciencias.unam.mx/Mi unidad/maestria/ia/segundo semestre/mineria de textos/análisis de sentimientos con vectores de documentos/aclImdb/train\")\n",
    "\n",
    "# Crear vectores promedio usando GloVe\n",
    "vectors_avg = [np.mean([word_vectors[w] for w in word_tokenize(text.lower()) if w in word_vectors], axis=0) if any(w in word_vectors for w in word_tokenize(text.lower())) else np.zeros(100) for text in all_reviews]\n",
    "\n",
    "# Entrenar y evaluar un clasificador\n",
    "X_train, X_test, y_train, y_test = train_test_split(vectors_avg, labels, test_size=0.2, random_state=42)\n",
    "clf = LogisticRegression(max_iter=1000)\n",
    "clf.fit(X_train, y_train)\n",
    "accuracy = accuracy_score(y_test, clf.predict(X_test))\n",
    "print(\"Accuracy con vectores promedio de GloVe:\", accuracy)\n"
   ]
  },
  {
   "cell_type": "code",
   "execution_count": null,
   "metadata": {},
   "outputs": [],
   "source": []
  }
 ],
 "metadata": {
  "kernelspec": {
   "display_name": "Python 3",
   "language": "python",
   "name": "python3"
  },
  "language_info": {
   "codemirror_mode": {
    "name": "ipython",
    "version": 3
   },
   "file_extension": ".py",
   "mimetype": "text/x-python",
   "name": "python",
   "nbconvert_exporter": "python",
   "pygments_lexer": "ipython3",
   "version": "3.9.6"
  }
 },
 "nbformat": 4,
 "nbformat_minor": 2
}
