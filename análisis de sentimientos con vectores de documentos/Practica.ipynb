{
 "cells": [
  {
   "cell_type": "code",
   "execution_count": 1,
   "metadata": {},
   "outputs": [],
   "source": [
    "ruta_rar = '/Users/Leon/Downloads/aclImdb/train/pos/0_9.txt'\n"
   ]
  },
  {
   "cell_type": "code",
   "execution_count": null,
   "metadata": {},
   "outputs": [],
   "source": [
    "\n",
    "\n",
    "with open(ruta_rar, 'r', encoding='utf-8') as file:\n",
    "    contenido = file.read()\n"
   ]
  },
  {
   "cell_type": "code",
   "execution_count": 3,
   "metadata": {},
   "outputs": [
    {
     "name": "stderr",
     "output_type": "stream",
     "text": [
      "/Users/Leon/Library/Python/3.9/lib/python/site-packages/urllib3/__init__.py:35: NotOpenSSLWarning: urllib3 v2 only supports OpenSSL 1.1.1+, currently the 'ssl' module is compiled with 'LibreSSL 2.8.3'. See: https://github.com/urllib3/urllib3/issues/3020\n",
      "  warnings.warn(\n"
     ]
    },
    {
     "name": "stdout",
     "output_type": "stream",
     "text": [
      "['bromwell', 'high', 'is', 'cartoon', 'comedy', 'it', 'ran', 'at', 'the', 'same', 'time', 'as', 'some', 'other', 'programs', 'about', 'school', 'life', 'such', 'as', 'teachers', 'my', 'years', 'in', 'the', 'teaching', 'profession', 'lead', 'me', 'to', 'believe', 'that', 'bromwell', 'high', 'satire', 'is', 'much', 'closer', 'to', 'reality', 'than', 'is', 'teachers', 'the', 'scramble', 'to', 'survive', 'financially', 'the', 'insightful', 'students', 'who', 'can', 'see', 'right', 'through', 'their', 'pathetic', 'teachers', 'pomp', 'the', 'pettiness', 'of', 'the', 'whole', 'situation', 'all', 'remind', 'me', 'of', 'the', 'schools', 'knew', 'and', 'their', 'students', 'when', 'saw', 'the', 'episode', 'in', 'which', 'student', 'repeatedly', 'tried', 'to', 'burn', 'down', 'the', 'school', 'immediately', 'recalled', 'at', 'high', 'classic', 'line', 'inspector', 'here', 'to', 'sack', 'one', 'of', 'your', 'teachers', 'student', 'welcome', 'to', 'bromwell', 'high', 'expect', 'that', 'many', 'adults', 'of', 'my', 'age', 'think', 'that', 'bromwell', 'high', 'is', 'far', 'fetched', 'what', 'pity', 'that', 'it', 'isn']\n"
     ]
    }
   ],
   "source": [
    "from gensim.utils import simple_preprocess\n",
    "words = simple_preprocess(contenido)\n",
    "\n",
    "print(words)"
   ]
  },
  {
   "cell_type": "code",
   "execution_count": null,
   "metadata": {},
   "outputs": [],
   "source": [
    "import gensim.downloader as api\n",
    "\n",
    "model = api.load(\"word2vec-google-news-300\")"
   ]
  },
  {
   "cell_type": "code",
   "execution_count": 5,
   "metadata": {},
   "outputs": [],
   "source": [
    "words_pre = list(model.index_to_key)"
   ]
  },
  {
   "cell_type": "code",
   "execution_count": null,
   "metadata": {},
   "outputs": [],
   "source": [
    "import numpy as np  \n",
    "\n",
    "vector_300 = np.zeros(300)\n",
    "n_palabras_utiles = 0  \n",
    "for palabra in words:\n",
    "    if palabra in model:\n",
    "        vector_300 += model[palabra]\n",
    "        n_palabras_utiles += 1\n",
    "if n_palabras_utiles > 0:\n",
    "    vector_300 /= n_palabras_utiles\n"
   ]
  },
  {
   "cell_type": "code",
   "execution_count": null,
   "metadata": {},
   "outputs": [
    {
     "name": "stdout",
     "output_type": "stream",
     "text": [
      "La palabra 'bromwell' no está en el modelo.\n"
     ]
    }
   ],
   "source": [
    "if words[0] in model:\n",
    "    vector = model[words[0]]\n",
    "    print(\"jala\")\n",
    "else:\n",
    "    print(f\"La palabra '{words[0]}' no está en el modelo.\")\n",
    "\n"
   ]
  },
  {
   "cell_type": "code",
   "execution_count": null,
   "metadata": {},
   "outputs": [],
   "source": [
    "import os\n",
    "import numpy as np\n",
    "from gensim.models import KeyedVectors\n",
    "from gensim.utils import simple_preprocess\n",
    "\n",
    "def cargar_vectores_promedio(ruta_base, modelo, carpetas=['pos', 'neg', 'unsup']):\n",
    "\n",
    "    resultados = {}\n",
    "    \n",
    "    for carpeta in carpetas:\n",
    "        carpeta_path = os.path.join(ruta_base, carpeta)\n",
    "        for archivo in os.listdir(carpeta_path):\n",
    "            if archivo.endswith('.txt'):\n",
    "                ruta_completa = os.path.join(carpeta_path, archivo)\n",
    "                with open(ruta_completa, 'r', encoding='utf-8') as f:\n",
    "                    texto = f.read()\n",
    "                    palabras = simple_preprocess(texto)\n",
    "                    \n",
    "                    vector_300 = np.zeros(modelo.vector_size)\n",
    "                    n_palabras_utiles = 0\n",
    "                    \n",
    "                    for palabra in palabras:\n",
    "                        if palabra in modelo:\n",
    "                            vector_300 += modelo[palabra]\n",
    "                            n_palabras_utiles += 1\n",
    "                    \n",
    "                    if n_palabras_utiles > 0:\n",
    "                        vector_300 /= n_palabras_utiles\n",
    "                    else:\n",
    "                        vector_300 = np.zeros(modelo.vector_size)\n",
    "                    \n",
    "                  \n",
    "                    clave = f\"{carpeta}/{archivo}\"\n",
    "                    resultados[clave] = vector_300\n",
    "                    \n",
    "    return resultados\n"
   ]
  },
  {
   "cell_type": "code",
   "execution_count": 13,
   "metadata": {},
   "outputs": [],
   "source": [
    "textos= cargar_vectores_promedio('/Users/Leon/Downloads/aclImdb/train', model)"
   ]
  },
  {
   "cell_type": "code",
   "execution_count": null,
   "metadata": {},
   "outputs": [],
   "source": [
    "import matplotlib.pyplot as plt\n",
    "from sklearn.manifold import TSNE\n",
    "\n",
    "\n",
    "nombres = list(textos.keys())\n",
    "vectores = list(textos.values())\n",
    "\n",
    "\n",
    "tsne = TSNE(n_components=2, random_state=42, perplexity=30)\n",
    "vectores_np = np.array(vectores)\n",
    "vectores_2d = tsne.fit_transform(vectores_np)\n",
    "\n",
    "\n",
    "colores = []\n",
    "for nombre in nombres:\n",
    "    if nombre.startswith('pos'):\n",
    "        colores.append('green')\n",
    "    elif nombre.startswith('neg'):\n",
    "        colores.append('red')\n",
    "    else:\n",
    "        colores.append('gray')\n",
    "\n",
    "\n",
    "plt.figure(figsize=(10, 7))\n",
    "for i, nombre in enumerate(nombres):\n",
    "    x, y = vectores_2d[i]\n",
    "    plt.scatter(x, y, color=colores[i], alpha=0.6)\n",
    "\n",
    "plt.title('Visualización de documentos con t-SNE')\n",
    "plt.xlabel('Dim 1')\n",
    "plt.ylabel('Dim 2')\n",
    "plt.grid(True)\n",
    "plt.legend(['pos', 'neg', 'unsup'])\n",
    "plt.tight_layout()\n",
    "plt.show()\n"
   ]
  }
 ],
 "metadata": {
  "kernelspec": {
   "display_name": "Python 3",
   "language": "python",
   "name": "python3"
  },
  "language_info": {
   "codemirror_mode": {
    "name": "ipython",
    "version": 3
   },
   "file_extension": ".py",
   "mimetype": "text/x-python",
   "name": "python",
   "nbconvert_exporter": "python",
   "pygments_lexer": "ipython3",
   "version": "3.9.6"
  }
 },
 "nbformat": 4,
 "nbformat_minor": 2
}
