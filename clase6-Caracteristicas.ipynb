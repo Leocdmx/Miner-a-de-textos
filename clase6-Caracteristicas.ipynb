{
 "cells": [
  {
   "cell_type": "markdown",
   "metadata": {},
   "source": [
    "# Preparación de datos"
   ]
  },
  {
   "cell_type": "code",
   "execution_count": 1,
   "metadata": {},
   "outputs": [],
   "source": [
    "#nltk.download('punkt')\n",
    "#datos para la tokenización de nltk\n",
    "#nltk.download('punkt_tab')\n",
    "\n",
    "\n",
    "#nltk.download('stopwords')\n",
    "#stop words reconocidos en nltk"
   ]
  },
  {
   "cell_type": "code",
   "execution_count": null,
   "metadata": {},
   "outputs": [
    {
     "data": {
      "text/html": [
       "<div>\n",
       "<style scoped>\n",
       "    .dataframe tbody tr th:only-of-type {\n",
       "        vertical-align: middle;\n",
       "    }\n",
       "\n",
       "    .dataframe tbody tr th {\n",
       "        vertical-align: top;\n",
       "    }\n",
       "\n",
       "    .dataframe thead th {\n",
       "        text-align: right;\n",
       "    }\n",
       "</style>\n",
       "<table border=\"1\" class=\"dataframe\">\n",
       "  <thead>\n",
       "    <tr style=\"text-align: right;\">\n",
       "      <th></th>\n",
       "      <th>text</th>\n",
       "      <th>target</th>\n",
       "    </tr>\n",
       "  </thead>\n",
       "  <tbody>\n",
       "    <tr>\n",
       "      <th>0</th>\n",
       "      <td>Go until jurong point, crazy.. Available only ...</td>\n",
       "      <td>0</td>\n",
       "    </tr>\n",
       "    <tr>\n",
       "      <th>1</th>\n",
       "      <td>Ok lar... Joking wif u oni...</td>\n",
       "      <td>0</td>\n",
       "    </tr>\n",
       "    <tr>\n",
       "      <th>2</th>\n",
       "      <td>Free entry in 2 a wkly comp to win FA Cup fina...</td>\n",
       "      <td>1</td>\n",
       "    </tr>\n",
       "    <tr>\n",
       "      <th>3</th>\n",
       "      <td>U dun say so early hor... U c already then say...</td>\n",
       "      <td>0</td>\n",
       "    </tr>\n",
       "    <tr>\n",
       "      <th>4</th>\n",
       "      <td>Nah I don't think he goes to usf, he lives aro...</td>\n",
       "      <td>0</td>\n",
       "    </tr>\n",
       "    <tr>\n",
       "      <th>5</th>\n",
       "      <td>FreeMsg Hey there darling it's been 3 week's n...</td>\n",
       "      <td>1</td>\n",
       "    </tr>\n",
       "    <tr>\n",
       "      <th>6</th>\n",
       "      <td>Even my brother is not like to speak with me. ...</td>\n",
       "      <td>0</td>\n",
       "    </tr>\n",
       "    <tr>\n",
       "      <th>7</th>\n",
       "      <td>As per your request 'Melle Melle (Oru Minnamin...</td>\n",
       "      <td>0</td>\n",
       "    </tr>\n",
       "    <tr>\n",
       "      <th>8</th>\n",
       "      <td>WINNER!! As a valued network customer you have...</td>\n",
       "      <td>1</td>\n",
       "    </tr>\n",
       "    <tr>\n",
       "      <th>9</th>\n",
       "      <td>Had your mobile 11 months or more? U R entitle...</td>\n",
       "      <td>1</td>\n",
       "    </tr>\n",
       "  </tbody>\n",
       "</table>\n",
       "</div>"
      ],
      "text/plain": [
       "                                                text  target\n",
       "0  Go until jurong point, crazy.. Available only ...       0\n",
       "1                      Ok lar... Joking wif u oni...       0\n",
       "2  Free entry in 2 a wkly comp to win FA Cup fina...       1\n",
       "3  U dun say so early hor... U c already then say...       0\n",
       "4  Nah I don't think he goes to usf, he lives aro...       0\n",
       "5  FreeMsg Hey there darling it's been 3 week's n...       1\n",
       "6  Even my brother is not like to speak with me. ...       0\n",
       "7  As per your request 'Melle Melle (Oru Minnamin...       0\n",
       "8  WINNER!! As a valued network customer you have...       1\n",
       "9  Had your mobile 11 months or more? U R entitle...       1"
      ]
     },
     "execution_count": 2,
     "metadata": {},
     "output_type": "execute_result"
    }
   ],
   "source": [
    "import pandas as pd\n",
    "import numpy as np\n",
    "import re\n",
    "\n",
    "from sklearn.model_selection import train_test_split\n",
    "from sklearn.feature_extraction.text import CountVectorizer\n",
    "\n",
    "\n",
    "import nltk\n",
    "from nltk.corpus import stopwords\n",
    "from nltk.tokenize import word_tokenize\n",
    "\n",
    "from collections import Counter\n",
    "\n",
    "#para la puntuación\n",
    "from collections import Counter\n",
    "from itertools import chain\n",
    "import string\n",
    "\n",
    "spam_data = pd.read_csv('spam.csv')\n",
    "\n",
    "spam_data['target'] = np.where(spam_data['target']=='spam',1,0)\n",
    "spam_data.head(10)\n"
   ]
  },
  {
   "cell_type": "markdown",
   "metadata": {},
   "source": [
    "# División de muestras en entrenamiento (train) y prueba (test)"
   ]
  },
  {
   "cell_type": "code",
   "execution_count": 3,
   "metadata": {},
   "outputs": [
    {
     "name": "stdout",
     "output_type": "stream",
     "text": [
      "4179\n"
     ]
    }
   ],
   "source": [
    "\n",
    "\n",
    "X_train, X_test, y_train, y_test = train_test_split(spam_data['text'], \n",
    "                                                    spam_data['target'], \n",
    "                                                    random_state=0)\n",
    "print(len(X_train))"
   ]
  },
  {
   "cell_type": "markdown",
   "metadata": {},
   "source": [
    "### Pregunta 1\n",
    "\n",
    "Ajustar los datos de entrenamiento `X_train` utilizando un `count_vectorizer` con parámetros predeterminados.\n",
    "\n",
    "¿Cuál es el token más largo en el vocabulario?\n",
    "\n",
    "*Esta función debería devolver una cadena.*"
   ]
  },
  {
   "cell_type": "code",
   "execution_count": 4,
   "metadata": {},
   "outputs": [
    {
     "data": {
      "text/plain": [
       "'com1win150ppmx3age16subscription'"
      ]
     },
     "execution_count": 4,
     "metadata": {},
     "output_type": "execute_result"
    }
   ],
   "source": [
    "\n",
    "\n",
    "def respuesta_uno (X_train):\n",
    "    #asignamos modelo\n",
    "    vectorizer = CountVectorizer()\n",
    "    #ajustamos el modelo\n",
    "    vectorizer.fit(X_train)  \n",
    "    #Obtenemos los tokens\n",
    "    vocab = vectorizer.get_feature_names_out()  \n",
    "    #obtenemos el token mas largo\n",
    "    return max(vocab, key=len)\n",
    "    \n",
    "respuesta_uno(X_train)"
   ]
  },
  {
   "cell_type": "markdown",
   "metadata": {},
   "source": [
    "### Pregunta 2\n",
    "\n",
    "¿Cuál es el número promedio de caracteres por documento para los documentos no spam y spam?\n",
    "\n",
    "*Esta función debe devolver una tupla (promedio de # caracteres no es spam, promedio # caracteres spam).*"
   ]
  },
  {
   "cell_type": "code",
   "execution_count": 5,
   "metadata": {},
   "outputs": [
    {
     "data": {
      "text/plain": [
       "(71.02362694300518, 138.8661311914324)"
      ]
     },
     "execution_count": 5,
     "metadata": {},
     "output_type": "execute_result"
    }
   ],
   "source": [
    "def respuesta_dos():\n",
    "    #agragamos columna con tamaño\n",
    "    spam_data['length'] =spam_data[\"text\"].apply(len)\n",
    "    #hacemos tabla dinamica\n",
    "    tabla_dinamica = spam_data.pivot_table(values=\"length\", index=\"target\", aggfunc=\"mean\")\n",
    "\n",
    "    return tabla_dinamica[\"length\"][0],tabla_dinamica[\"length\"][1] \n",
    "respuesta_dos()"
   ]
  },
  {
   "cell_type": "markdown",
   "metadata": {},
   "source": [
    "### Pregunta 3\n",
    "\n",
    "¿Cuál es el número promedio de dígitos por documento para los documentos no spam y spam?\n",
    "\n",
    "*Esta función debe devolver una tupla (promedio de # dígitos no es spam, promedio # dígitos spam).*"
   ]
  },
  {
   "cell_type": "code",
   "execution_count": 6,
   "metadata": {},
   "outputs": [
    {
     "data": {
      "text/plain": [
       "(0.2992746113989637, 15.759036144578314)"
      ]
     },
     "execution_count": 6,
     "metadata": {},
     "output_type": "execute_result"
    }
   ],
   "source": [
    "def respuesta_tres():\n",
    "    \n",
    "    spam_data[\"digitos\"] = spam_data[\"text\"].apply(lambda x: re.findall(r'\\d+', x))\n",
    "\n",
    "    spam_data[\"digitos\"] = spam_data[\"digitos\"].apply(lambda x: ''.join(x))\n",
    "\n",
    "    spam_data['len_digitos'] =spam_data[\"digitos\"].apply(len)\n",
    "    #hacemos tabla dinamica\n",
    "    tabla_dinamica = spam_data.pivot_table(values=\"len_digitos\", index=\"target\", aggfunc=\"mean\")\n",
    "    \n",
    "    return tabla_dinamica[\"len_digitos\"][0],tabla_dinamica[\"len_digitos\"][1] \n",
    "respuesta_tres()"
   ]
  },
  {
   "cell_type": "markdown",
   "metadata": {},
   "source": [
    "### Pregunta 4\n",
    "\n",
    "¿Cuál es el número promedio de caracteres que no son palabras (cualquier cosa que no sea una letra, un dígito o un guión bajo) por documento para los documentos que no son spam y spam?\n",
    "\n",
    "*Sugerencia: utilice las clases de caracteres `\\ w` y` \\ W`*\n",
    "\n",
    "*Esta función debe devolver una tupla (promedio de # caracteres que no son palabras, no spam, promedio de # caracteres que no son palabras, spam).*"
   ]
  },
  {
   "cell_type": "code",
   "execution_count": 7,
   "metadata": {},
   "outputs": [
    {
     "data": {
      "text/plain": [
       "(17.29181347150259, 29.041499330655956)"
      ]
     },
     "execution_count": 7,
     "metadata": {},
     "output_type": "execute_result"
    }
   ],
   "source": [
    "def pregunta_cuatro():\n",
    "    \n",
    "    spam_data[\"no_w\"] = spam_data[\"text\"].apply(lambda x: re.findall(r'\\W', x))\n",
    "\n",
    "\n",
    "    spam_data['len_no_w'] =spam_data[\"no_w\"].apply(len)\n",
    "    #hacemos tabla dinamica\n",
    "    tabla_dinamica = spam_data.pivot_table(values=\"len_no_w\", index=\"target\", aggfunc=\"mean\")\n",
    "    \n",
    "    return tabla_dinamica[\"len_no_w\"][0],tabla_dinamica[\"len_no_w\"][1] \n",
    "pregunta_cuatro()"
   ]
  },
  {
   "cell_type": "markdown",
   "metadata": {},
   "source": [
    "### Pregunta 5\n",
    "\n",
    "¿Cuál es el tamaño del vocabulario en `X_train` y `X_test`, primero utilizando la función `fit_transform` en ambos (train y test), luego utilizando `fit_transform` sobre el train y solo `transform` en el test\n",
    "\n",
    "\n",
    "\n",
    "*Esta función debe devolver dos tuplas una con `fit_transform` y la otra con `transform` (vocabulario en `X_train`, vocabulario en `X_test`), (vocabulario en `X_train`, vocabulario en `X_test`).*.*"
   ]
  },
  {
   "cell_type": "markdown",
   "metadata": {},
   "source": [
    "Cuando aplicamos repetidamente `fit_transform` lo que hace es resetear el modelo. Por lo que para aplicar `fit_transform` en train como en test lo que haremos sera juntar los textos o tomar el texto original."
   ]
  },
  {
   "cell_type": "code",
   "execution_count": 8,
   "metadata": {},
   "outputs": [
    {
     "data": {
      "text/plain": [
       "(20403, 18942)"
      ]
     },
     "execution_count": 8,
     "metadata": {},
     "output_type": "execute_result"
    }
   ],
   "source": [
    "def respuesta_cinco():\n",
    "    \n",
    "    vectorizer_p5 = CountVectorizer()\n",
    "    X_train_transformed_1 = vectorizer_p5.fit_transform(X_train)\n",
    "    X_test_transformed_1 = vectorizer_p5.fit_transform(X_test)\n",
    "    #aca se reinstancia el vectorizador por loque pierde sentido el haber aplicado el fit sobre train\n",
    "    vocab_train_1 = vectorizer_p5.transform(X_test)\n",
    "\n",
    "    vectorizer_p5_2 = CountVectorizer()\n",
    "    X_train_transformed_2 = vectorizer_p5_2.fit_transform(X_train)\n",
    "    vocab_train_2 = vectorizer_p5_2.transform(X_test)\n",
    "\n",
    "    return vocab_train_1.sum(),vocab_train_2.sum()   \n",
    "\n",
    "respuesta_cinco()"
   ]
  },
  {
   "cell_type": "markdown",
   "metadata": {},
   "source": [
    "### Pregunta 6\n",
    "\n",
    "¿Cuales son las 10 palabras mas frecuentes (sin tener en cuenta *Stopwords*) en los documentos que no son spam y spam?\n",
    "\n",
    "\n",
    "*Esta función debe devolver una tupla (palabras mas frecuentes, no spam, palabras mas frecuentes, spam).*"
   ]
  },
  {
   "cell_type": "code",
   "execution_count": null,
   "metadata": {},
   "outputs": [
    {
     "data": {
      "text/plain": [
       "([('u', 989),\n",
       "  ('gt', 318),\n",
       "  ('lt', 316),\n",
       "  ('get', 301),\n",
       "  ('ok', 261),\n",
       "  ('go', 248),\n",
       "  ('got', 242),\n",
       "  ('ur', 237),\n",
       "  ('know', 236),\n",
       "  ('like', 231)],\n",
       " [('call', 346),\n",
       "  ('free', 219),\n",
       "  ('txt', 156),\n",
       "  ('u', 144),\n",
       "  ('ur', 144),\n",
       "  ('mobile', 123),\n",
       "  ('text', 121),\n",
       "  ('stop', 114),\n",
       "  ('claim', 113),\n",
       "  ('reply', 104)])"
      ]
     },
     "execution_count": 52,
     "metadata": {},
     "output_type": "execute_result"
    }
   ],
   "source": [
    "def pregunta_seis():\n",
    "    stop_words = set(stopwords.words('english'))\n",
    "    spam_data[\"text_no_sw\"] = spam_data[\"text\"].apply(\n",
    "    lambda x: [word for word in word_tokenize(x) if word.lower() not in stop_words]\n",
    "    )\n",
    "    spam_data[\"text_sw\"] = spam_data[\"text\"].apply(\n",
    "    lambda x: [word for word in word_tokenize(x) if word.lower() in stop_words]\n",
    "    )\n",
    "\n",
    "\n",
    "    df_0 = spam_data[spam_data[\"target\"] == 0]\n",
    "    df_1 = spam_data[spam_data[\"target\"] == 1]\n",
    "    \n",
    "    todas_las_palabras = list(chain.from_iterable(df_0[\"text_no_sw\"]))\n",
    "\n",
    "    todas_las_palabras_limpias = [\n",
    "        token.lower() \n",
    "        for token in todas_las_palabras \n",
    "        if token.isalpha() and token not in string.punctuation\n",
    "    ]\n",
    "\n",
    "    frecuencia = Counter(todas_las_palabras_limpias)\n",
    "    top_10 = frecuencia.most_common(10)\n",
    "\n",
    "    todas_las_palabras_1 = list(chain.from_iterable(df_1[\"text_no_sw\"]))\n",
    "\n",
    "    todas_las_palabras_limpias = [\n",
    "        token.lower() \n",
    "        for token in todas_las_palabras_1\n",
    "        if token.isalpha() and token not in string.punctuation\n",
    "    ]\n",
    "\n",
    "    frecuencia_1 = Counter(todas_las_palabras_limpias)\n",
    "    top_10_1 = frecuencia_1.most_common(10)\n",
    "\n",
    "    return top_10,top_10_1\n",
    "pregunta_seis()"
   ]
  },
  {
   "cell_type": "markdown",
   "metadata": {},
   "source": [
    "### Pregunta 7\n",
    "\n",
    "¿Cuales son las 10 palabras mas frecuentes (solo teniendo en cuenta *Stopwords*) en los documentos que no son spam y spam?\n",
    "\n",
    "\n",
    "*Esta función debe devolver una tupla (palabras mas frecuentes, no spam, palabras mas frecuentes, spam).*"
   ]
  },
  {
   "cell_type": "code",
   "execution_count": null,
   "metadata": {},
   "outputs": [
    {
     "data": {
      "text/plain": [
       "([('i', 2851),\n",
       "  ('you', 1932),\n",
       "  ('to', 1554),\n",
       "  ('the', 1118),\n",
       "  ('a', 1048),\n",
       "  ('and', 855),\n",
       "  ('in', 814),\n",
       "  ('me', 774),\n",
       "  ('my', 747),\n",
       "  ('is', 740)],\n",
       " [('to', 687),\n",
       "  ('a', 376),\n",
       "  ('you', 296),\n",
       "  ('your', 263),\n",
       "  ('the', 206),\n",
       "  ('for', 202),\n",
       "  ('now', 199),\n",
       "  ('or', 188),\n",
       "  ('is', 158),\n",
       "  ('on', 144)])"
      ]
     },
     "execution_count": 53,
     "metadata": {},
     "output_type": "execute_result"
    }
   ],
   "source": [
    "def pregunta_siete():\n",
    "    stop_words = set(stopwords.words('english'))\n",
    "    spam_data[\"text_no_sw\"] = spam_data[\"text\"].apply(\n",
    "    lambda x: [word for word in word_tokenize(x) if word.lower() not in stop_words]\n",
    "    )\n",
    "    spam_data[\"text_sw\"] = spam_data[\"text\"].apply(\n",
    "    lambda x: [word for word in word_tokenize(x) if word.lower() in stop_words]\n",
    "    )\n",
    "\n",
    "\n",
    "   \n",
    "    df_0 = spam_data[spam_data[\"target\"] == 0]\n",
    "    df_1 = spam_data[spam_data[\"target\"] == 1]\n",
    "    \n",
    "    todas_las_palabras = list(chain.from_iterable(df_0[\"text_sw\"]))\n",
    "\n",
    "    todas_las_palabras_limpias = [\n",
    "        token.lower() \n",
    "        for token in todas_las_palabras \n",
    "        if token.isalpha() and token not in string.punctuation\n",
    "    ]\n",
    "\n",
    "    frecuencia = Counter(todas_las_palabras_limpias)\n",
    "    top_10 = frecuencia.most_common(10)\n",
    "\n",
    "    todas_las_palabras_1 = list(chain.from_iterable(df_1[\"text_sw\"]))\n",
    "\n",
    "    todas_las_palabras_limpias = [\n",
    "        token.lower() \n",
    "        for token in todas_las_palabras_1\n",
    "        if token.isalpha() and token not in string.punctuation\n",
    "    ]\n",
    "\n",
    "    frecuencia_1 = Counter(todas_las_palabras_limpias)\n",
    "    top_10_1 = frecuencia_1.most_common(10)\n",
    "\n",
    "    return top_10,top_10_1\n",
    "pregunta_siete()"
   ]
  }
 ],
 "metadata": {
  "kernelspec": {
   "display_name": "Python 3",
   "language": "python",
   "name": "python3"
  },
  "language_info": {
   "codemirror_mode": {
    "name": "ipython",
    "version": 3
   },
   "file_extension": ".py",
   "mimetype": "text/x-python",
   "name": "python",
   "nbconvert_exporter": "python",
   "pygments_lexer": "ipython3",
   "version": "3.10.5"
  }
 },
 "nbformat": 4,
 "nbformat_minor": 2
}
