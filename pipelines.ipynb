{
 "cells": [
  {
   "cell_type": "code",
   "execution_count": 2,
   "metadata": {},
   "outputs": [],
   "source": [
    "ruta='/Users/Leon/Documents/Data GH/Mineria de textos/corpusTASS-2020'"
   ]
  },
  {
   "cell_type": "code",
   "execution_count": 3,
   "metadata": {},
   "outputs": [],
   "source": [
    "import pandas as pd\n",
    "import os\n",
    "\n",
    "# Cargar archivos\n",
    "df_train = pd.read_csv(os.path.join(ruta, 'train.tsv'), sep='\\t')\n",
    "df_test = pd.read_csv(os.path.join(ruta, 'test.tsv'), sep='\\t')\n",
    "df_dev = pd.read_csv(os.path.join(ruta, 'dev.tsv'), sep='\\t')\n",
    "\n"
   ]
  },
  {
   "cell_type": "code",
   "execution_count": 4,
   "metadata": {},
   "outputs": [],
   "source": [
    "\n",
    "# Filtrar columnas y eliminar filas con valores nulos\n",
    "df_train_filtered = df_train[['texto', 'etiqueta']].dropna()\n",
    "df_dev_filtered = df_dev[['texto', 'etiqueta']].dropna()\n",
    "df_test_filtered = df_test[['texto', 'etiqueta']].dropna()"
   ]
  },
  {
   "cell_type": "code",
   "execution_count": 5,
   "metadata": {},
   "outputs": [],
   "source": [
    "import re\n",
    "\n",
    "# Haremos la limpieza de los textos con expresiones regulares\n",
    "\n",
    "def limpiar_texto(texto):\n",
    "    texto = re.sub(r'@\\w+', '', texto)  # eliminar menciones\n",
    "    texto = re.sub(r'http\\S+|www\\S+', '', texto)  # eliminar URLs\n",
    "    texto = re.sub(r'#\\w+', '', texto)  # eliminar hashtags\n",
    "    texto = re.sub(r'[^\\w\\sáéíóúüÁÉÍÓÚÜ]', '', texto)  # eliminar acentos y caracteres especiales\n",
    "    texto = texto.lower()  # convertir a minúsculas\n",
    "    texto = re.sub(r'\\s+', ' ', texto).strip()  # eliminar espacios extra\n",
    "    texto = texto.encode('ascii', 'ignore').decode('ascii')  # eliminar emojis y simbolos no ASCII\n",
    "    return texto"
   ]
  },
  {
   "cell_type": "code",
   "execution_count": 6,
   "metadata": {},
   "outputs": [],
   "source": [
    "df_train_filtered['texto'] = df_train_filtered['texto'].astype(str).apply(limpiar_texto)\n",
    "df_dev_filtered['texto'] = df_dev_filtered['texto'].astype(str).apply(limpiar_texto)\n",
    "df_test_filtered['texto'] = df_test_filtered['texto'].astype(str).apply(limpiar_texto)\n"
   ]
  },
  {
   "cell_type": "code",
   "execution_count": 7,
   "metadata": {},
   "outputs": [
    {
     "name": "stderr",
     "output_type": "stream",
     "text": [
      "/Users/Leon/Library/Python/3.9/lib/python/site-packages/urllib3/__init__.py:35: NotOpenSSLWarning: urllib3 v2 only supports OpenSSL 1.1.1+, currently the 'ssl' module is compiled with 'LibreSSL 2.8.3'. See: https://github.com/urllib3/urllib3/issues/3020\n",
      "  warnings.warn(\n",
      "/Users/Leon/Library/Python/3.9/lib/python/site-packages/tqdm/auto.py:21: TqdmWarning: IProgress not found. Please update jupyter and ipywidgets. See https://ipywidgets.readthedocs.io/en/stable/user_install.html\n",
      "  from .autonotebook import tqdm as notebook_tqdm\n"
     ]
    }
   ],
   "source": [
    "from datasets import Dataset\n",
    "#convertimos a formato dataset\n",
    "dataset_train = Dataset.from_pandas(df_train_filtered.reset_index(drop=True))\n",
    "dataset_dev = Dataset.from_pandas(df_dev_filtered.reset_index(drop=True))\n",
    "dataset_test = Dataset.from_pandas(df_test_filtered.reset_index(drop=True))"
   ]
  },
  {
   "cell_type": "code",
   "execution_count": null,
   "metadata": {},
   "outputs": [
    {
     "name": "stderr",
     "output_type": "stream",
     "text": [
      "Map:  36%|███▋      | 1745/4802 [01:05<01:58, 25.69 examples/s]"
     ]
    }
   ],
   "source": [
    "from transformers import pipeline\n",
    "\n",
    "\n",
    "# Usa un modelo en español compatible con análisis de sentimiento desde Hugging Face\n",
    "classifier = pipeline(\"text-classification\", model=\"finiteautomata/beto-sentiment-analysis\")\n",
    "\n",
    "# Aplica el modelo a los textos del corpus para predecir el sentimiento.\n",
    "def clasificar_sentimiento(ejemplo):\n",
    "    resultado = classifier(ejemplo['texto'])\n",
    "    return {'prediccion_modelo': resultado[0]['label'].lower()}  # minúscula para facilitar comparación\n",
    "\n",
    "# Probamos\n",
    "dataset_train = dataset_train.map(clasificar_sentimiento)\n",
    "#dataset_dev = dataset_dev.map(clasificar_sentimiento)\n",
    "#dataset_test = dataset_test.map(clasificar_sentimiento)\n",
    "\n",
    "# Mostramos\n",
    "print(dataset_train[0])\n",
    "\n"
   ]
  }
 ],
 "metadata": {
  "kernelspec": {
   "display_name": "Python 3",
   "language": "python",
   "name": "python3"
  },
  "language_info": {
   "codemirror_mode": {
    "name": "ipython",
    "version": 3
   },
   "file_extension": ".py",
   "mimetype": "text/x-python",
   "name": "python",
   "nbconvert_exporter": "python",
   "pygments_lexer": "ipython3",
   "version": "3.9.6"
  }
 },
 "nbformat": 4,
 "nbformat_minor": 2
}
